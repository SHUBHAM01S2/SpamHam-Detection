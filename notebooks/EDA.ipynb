{
 "cells": [
  {
   "cell_type": "markdown",
   "metadata": {
    "_cell_guid": "f169d7cf-818b-4815-a5be-76265e99d139",
    "_uuid": "25f02ffdb0d53b9663f351fa0c0f415d2bce15b1"
   },
   "source": [
    "#  Spam classification with Naive Bayes\n"
   ]
  },
  {
   "cell_type": "markdown",
   "metadata": {
    "_cell_guid": "8b0b431e-8d74-4a03-9858-539f067f6604",
    "_uuid": "73148e4af546e95aa951ee5cb2c9ee2728eb4401"
   },
   "source": [
    "- Libraries\n",
    "- Exploring the Dataset\n",
    "- Distribution spam and non-spam plots\n",
    "- Text Analytics\n",
    "- Feature Engineering\n",
    "- Predictive analysis (**Multinomial Naive Bayes and and Gausian Naive Bayes**)\n",
    "- Conclusion\n"
   ]
  },
  {
   "cell_type": "markdown",
   "metadata": {
    "_cell_guid": "ba30922b-183b-4f2e-ac19-35ebc9dd865a",
    "_uuid": "e27ea858875f6d5698fcfb196b32160c8d761697"
   },
   "source": [
    "## Libraries"
   ]
  },
  {
   "cell_type": "code",
   "execution_count": 1,
   "metadata": {
    "_cell_guid": "77dbf249-4662-4faf-ae30-654f5f76f5b1",
    "_uuid": "5eb96b9e55cca9f7dbc74128cd5933856b39aa51",
    "tags": []
   },
   "outputs": [],
   "source": [
    "import numpy as np\n",
    "import pandas as pd\n",
    "import matplotlib.pyplot as plt\n",
    "import os\n",
    "import io\n",
    "from collections import Counter\n",
    "from sklearn import feature_extraction, model_selection, naive_bayes, metrics, svm\n",
    "from IPython.display import Image\n",
    "import warnings\n",
    "warnings.filterwarnings(\"ignore\")\n",
    "%matplotlib inline  "
   ]
  },
  {
   "cell_type": "markdown",
   "metadata": {
    "_cell_guid": "ab7471a7-9fda-4dc9-ba8b-6d4f0c1b92e1",
    "_uuid": "2a11f84b23cf786579a3beb1074c6e7375456b77"
   },
   "source": [
    "## Exploring the Dataset"
   ]
  },
  {
   "cell_type": "markdown",
   "metadata": {},
   "source": [
    "## For this project we are going to use three datasets and combine them together. \n",
    "\n",
    "1. Spam email dataset\n",
    "2. Ham dataset\n",
    "3. Sms collection dataset.\n",
    "\n",
    "for the first two datasets, we have to merge the files and manually create the classes and for the third dataset, the Spam-Ham classes are predefined."
   ]
  },
  {
   "cell_type": "code",
   "execution_count": 2,
   "metadata": {},
   "outputs": [],
   "source": [
    "# Let's read the email dataset\n",
    "\n",
    "class FormEmailDataset:\n",
    "    def __init__(self, path_of_email):\n",
    "        self.path_of_email = path_of_email\n",
    "        \n",
    "    def reading_files(self,path):\n",
    "        for root, dirnames, filenames in os.walk(path):\n",
    "            for filename in filenames:\n",
    "                \n",
    "                path = os.path.join(root, filename)\n",
    "                if filename.endswith('.html'):\n",
    "                    print(path)\n",
    "\n",
    "                inBody = False\n",
    "                lines = []\n",
    "                f = io.open(path, 'r', encoding='latin1')\n",
    "                for line in f:\n",
    "                    if inBody:\n",
    "                        lines.append(line)\n",
    "                    elif line == '\\n':\n",
    "                        inBody = True\n",
    "                f.close()\n",
    "                message = '\\n'.join(lines)\n",
    "                yield path, message\n",
    "            \n",
    "    def form_dataframe(self,path, classification): #dataframefromdirectory\n",
    "        rows = []\n",
    "        index = []\n",
    "        for filename, message in self.reading_files(r'{}'.format(path)):\n",
    "            rows.append({'message': message, 'class': classification})\n",
    "            index.append(filename)\n",
    "\n",
    "        return pd.DataFrame(rows, index=index)\n",
    "    \n",
    "    def get_data(self):   \n",
    "\n",
    "        formed_data = pd.DataFrame({'message': [], 'class': []})\n",
    "        for path_name in os.listdir(self.path_of_email):\n",
    "            path_of_files = os.path.join(self.path_of_email, path_name)\n",
    "\n",
    "            formed_data = pd.concat([formed_data, self.form_dataframe(path_of_files, path_name)])\n",
    "            print(f\"{path_name} data we got\")\n",
    "            \n",
    "        return formed_data\n",
    "            "
   ]
  },
  {
   "cell_type": "code",
   "execution_count": 3,
   "metadata": {},
   "outputs": [
    {
     "name": "stdout",
     "output_type": "stream",
     "text": [
      " EDA_final.ipynb   emails.csv              sms.csv\n",
      " EDA.ipynb        'Model Training.ipynb'   spamham.csv\n"
     ]
    }
   ],
   "source": [
    "ls"
   ]
  },
  {
   "cell_type": "code",
   "execution_count": 4,
   "metadata": {},
   "outputs": [],
   "source": [
    "email_dataset = pd.read_csv('emails.csv')"
   ]
  },
  {
   "cell_type": "code",
   "execution_count": 5,
   "metadata": {},
   "outputs": [
    {
     "data": {
      "application/vnd.microsoft.datawrangler.viewer.v0+json": {
       "columns": [
        {
         "name": "index",
         "rawType": "int64",
         "type": "integer"
        },
        {
         "name": "Unnamed: 0",
         "rawType": "int64",
         "type": "integer"
        },
        {
         "name": "Label",
         "rawType": "object",
         "type": "string"
        },
        {
         "name": "Message",
         "rawType": "object",
         "type": "string"
        },
        {
         "name": "label_num",
         "rawType": "int64",
         "type": "integer"
        }
       ],
       "ref": "ec26a5ce-3d98-4a6e-91ac-6315d84c2141",
       "rows": [
        [
         "0",
         "605",
         "ham",
         "Subject: enron methanol ; meter # : 988291\nthis is a follow up to the note i gave you on monday , 4 / 3 / 00 { preliminary\nflow data provided by daren } .\nplease override pop ' s daily volume { presently zero } to reflect daily\nactivity you can obtain from gas control .\nthis change is needed asap for economics purposes .",
         "0"
        ],
        [
         "1",
         "2349",
         "ham",
         "Subject: hpl nom for january 9 , 2001\n( see attached file : hplnol 09 . xls )\n- hplnol 09 . xls",
         "0"
        ],
        [
         "2",
         "3624",
         "ham",
         "Subject: neon retreat\nho ho ho , we ' re around to that most wonderful time of the year - - - neon leaders retreat time !\ni know that this time of year is extremely hectic , and that it ' s tough to think about anything past the holidays , but life does go on past the week of december 25 through january 1 , and that ' s what i ' d like you to think about for a minute .\non the calender that i handed out at the beginning of the fall semester , the retreat was scheduled for the weekend of january 5 - 6 . but because of a youth ministers conference that brad and dustin are connected with that week , we ' re going to change the date to the following weekend , january 12 - 13 . now comes the part you need to think about .\ni think we all agree that it ' s important for us to get together and have some time to recharge our batteries before we get to far into the spring semester , but it can be a lot of trouble and difficult for us to get away without kids , etc . so , brad came up with a potential alternative for how we can get together on that weekend , and then you can let me know which you prefer .\nthe first option would be to have a retreat similar to what we ' ve done the past several years . this year we could go to the heartland country inn ( www . . com ) outside of brenham . it ' s a nice place , where we ' d have a 13 - bedroom and a 5 - bedroom house side by side . it ' s in the country , real relaxing , but also close to brenham and only about one hour and 15 minutes from here . we can golf , shop in the antique and craft stores in brenham , eat dinner together at the ranch , and spend time with each other . we ' d meet on saturday , and then return on sunday morning , just like what we ' ve done in the past .\nthe second option would be to stay here in houston , have dinner together at a nice restaurant , and then have dessert and a time for visiting and recharging at one of our homes on that saturday evening . this might be easier , but the trade off would be that we wouldn ' t have as much time together . i ' ll let you decide .\nemail me back with what would be your preference , and of course if you ' re available on that weekend . the democratic process will prevail - - majority vote will rule ! let me hear from you as soon as possible , preferably by the end of the weekend . and if the vote doesn ' t go your way , no complaining allowed ( like i tend to do ! )\nhave a great weekend , great golf , great fishing , great shopping , or whatever makes you happy !\nbobby",
         "0"
        ],
        [
         "3",
         "4685",
         "spam",
         "Subject: photoshop , windows , office . cheap . main trending\nabasements darer prudently fortuitous undergone\nlighthearted charm orinoco taster\nrailroad affluent pornographic cuvier\nirvin parkhouse blameworthy chlorophyll\nrobed diagrammatic fogarty clears bayda\ninconveniencing managing represented smartness hashish\nacademies shareholders unload badness\ndanielson pure caffein\nspaniard chargeable levin\n",
         "1"
        ],
        [
         "4",
         "2030",
         "ham",
         "Subject: re : indian springs\nthis deal is to book the teco pvr revenue . it is my understanding that teco\njust sends us a check , i haven ' t received an answer as to whether there is a\npredermined price associated with this deal or if teco just lets us know what\nwe are giving . i can continue to chase this deal down if you need .",
         "0"
        ],
        [
         "5",
         "2949",
         "ham",
         "Subject: ehronline web address change\nthis message is intended for ehronline users only .\ndue to a recent change to ehronline , the url ( aka \" web address \" ) for accessing ehronline needs to be changed on your computer . the change involves adding the letter \" s \" to the \" http \" reference in the url . the url for accessing ehronline should be : https : / / ehronline . enron . com .\nthis change should be made by those who have added the url as a favorite on the browser .",
         "0"
        ],
        [
         "6",
         "2793",
         "ham",
         "Subject: spring savings certificate - take 30 % off\nsave 30 % when you use our customer appreciation spring savings\ncertificate at foot locker , lady foot locker , kids foot locker and at\nour online stores !\nwelcome to our customer appreciation spring savings certificate !\nuse the special certificate below and receive 30 % off your purchases either in our stores or online . hurry ! this 4 - day sale begins thursday , march 22 and ends sunday , march 25 .\nshare the savings today and e - mail this offer to your friends . many items already are reduced and the 30 % discount is taken off the lowest sale price .\nclick below to print your customer appreciation spring savings certificate . you must present this coupon at any foot locker , lady foot locker or kids foot locker store in the u . s . foot locker canada is not participating in this program .\nready , set , save !\nour spring savings discount will automatically appear when you use the links below or type camlem 21 into the promotion code box during checkout .\nfootlocker . com certificate code : camlem 21\nladyfootlocker . com certificate code : camlem 21\nkidsfootlocker . com certificate code : camlem 21\nremember , returns are hassle - free . simply bring your items to any of our stores nationwide or through the mail .\ndon ' t be left out - register today to learn about our new products , promotions , events and other specials . simply click below .\nterms and conditions . some exclusions apply , please see manager for complete details . certificate must be presented at the time of purchase and cannot be used in conjunction with any other discount offer or associate benefit . not redeemable for cash . applicable taxes must be paid by bearer . cannot be applied to prior purchases or to gift card purchases . void where prohibited , licensed or regulated . catalog exclusions apply . valid thursday , 3 / 22 / 01 through sunday , 3 / 25 / 01 . foot locker canada will not participate in this program .\nif you do not wish to receive future emails please click below to\nunsubscribe :\n",
         "0"
        ],
        [
         "7",
         "4185",
         "spam",
         "Subject: looking for medication ? we ` re the best source .\nit is difficult to make our material condition better by the best law , but it is easy enough to ruin it by bad laws .\nexcuse me . . . : ) you just found the\nbest and simpliest site for\nmedication on the net . no perscription , easy\ndelivery .\nprivate , secure , and easy .\nbetter see rightly on a pound a week than squint on a million .\nwe ` ve got\nanything that you will ever want .\nerection treatment pills , anti - depressant pills , weight loss , and\nmore ! http : / / splicings . bombahakcx . com / 3 /\nknowledge and human power are synonymous .\nonly high - quality stuff for low rates !\n100 % moneyback guarantee !\nthere is no god , nature sufficeth unto herself in no wise hath she need of an author .",
         "1"
        ],
        [
         "8",
         "2641",
         "ham",
         "Subject: noms / actual flow for 2 / 26\nwe agree\n- - - - - - - - - - - - - - - - - - - - - - forwarded by melissa jones / texas utilities on\n02 / 27 / 2001\n10 : 33 am - - - - - - - - - - - - - - - - - - - - - - - - - - -\n\" eileen ponton \" on 02 / 27 / 2001 09 : 46 : 26 am\nto : david avila / lsp / enserch / us @ tu , charlie stone / texas utilities @ tu , melissa\njones / texas utilities @ tu , hpl . scheduling @ enron . com ,\nliz . bellamy @ enron . com\ncc :\nsubject : noms / actual flow for 2 / 26\ndate nom flow - mcf flow - mmbtu\n2 / 26 / 01 0 456 469\nbtu = 1 . 027",
         "0"
        ],
        [
         "9",
         "1870",
         "ham",
         "Subject: nominations for oct . 21 - 23 , 2000\n( see attached file : hplnl 021 . xls )\n- hplnl 021 . xls",
         "0"
        ],
        [
         "10",
         "4922",
         "spam",
         "Subject: vocable % rnd - word asceticism\nvcsc - brand new stock for your attention\nvocalscape inc - the stock symbol is : vcsc\nvcsc will be our top stock pick for the month of april - stock expected to\nbounce to 12 cents level\nthe stock hit its all time low and will bounce back\nstock is going to explode in next 5 days - watch it soar\nwatch the stock go crazy this and next week .\nbreaking news - vocalscape inc . announces agreement to resell mix network\nservices\ncurrent price : $ 0 . 025\nwe expect projected speculative price in next 5 days : $ 0 . 12\nwe expect projected speculative price in next 15 days : $ 0 . 15\nvocalscape networks inc . is building a company that ' s revolutionizing the\ntelecommunications industry with the most affordable phone systems , hardware ,\nonline software , and rates in canada and the us . vocalscape , a company with\nglobal reach , is receiving international attention for the development of voice\nover ip ( voip ) application solutions , including the award - winning eyefontm , a\nsoftphone for real - time pc - to - phone . we are an advanced implementer of pbx\nsystems for companies , call centers , itsps and service providers .\nvocalscape has created software and interactive solutions revolving around\nglobal communications and data voice convergence . companies use vocalscape for\nvoice over internet protocol applications like ip pbxs , softswitches , pc 2 phone\nand web 2 phone , providing real - time human interaction and information delivery\nover the internet . through vocalscape ' s solutions , businesses can offer a\nquality voice service to anywhere in the world at rates that are significantly\nlower than current long distance charges . we develop software to run voip\nnetworks , and sell , install and service our own branded voip gateways and\ngatekeeper control software . we also license our software to customers who want\nto brand their own voip solutions .\nvocalscape is committed to making great technology ; challenging the status quo ,\nand building a 21 st century company that changes the way businesses communicate\nand interact through the internet .\ncurrent price : $ 0 . 025\nwe expect projected speculative price in next 5 days : $ 0 . 12\nwe expect projected speculative price in next 15 days : $ 0 . 15\nbreaking news - vocalscape inc . announces agreement to resell mix network\nservices\n- - - - - - - - - -\nkatonah , n . y . , / prnewswire - firstcall via comtex / - - vocalscape , inc . pink : vcsc ) ,\nan emerging leader in the development of voice over internet protocol ( voip )\ntelephony solutions , announced today it has entered into a sales agent agreement\nwith mix networks , inc . a voip enhanced telephony service provider .\nthis agreement provides vocalscape ' s turnkey calling card customers with access\nto mix networks services including north american dids ( phone numbers ) and\ndomestic long distance termination . vocalscape will also be able to supply their\nclients with enhanced voip products including pre - paid calling through mix\nnetworks north american network .\nwe are excited to help companies launch voip business models using our solution\nwith the whole picture from the software to the network needed to route the\ncalls . mix networks gives us the ability to offer wholesale monthly flat rate\nplans and dids to our clients that allow for us to build business models like\npopular voip companies such as vonage and packet 8 , says ryan gibson , vp\nvocalscape networks\nsome legal words before you continue :\ninformation within this email contains forward looking statements within the\nmeaning of section 27 a of the securities act of 1933 and section 21 b of the\nsecurities exchange act of 1934 . any statements that express or involve\ndiscussions with respect to predictions , goals , expectations , beliefs , plans ,\nprojections , objectives , assumptions or future events or performance are not\nstatements of historical fact and may be forward looking statements . forward\nlooking statements are based on expectations , estimates and projections at the\ntime the statements are made that involve a number of risks and uncertainties\nwhich could cause actual results or events to differ materially from those\npresently anticipated . forward looking statements in this action may be\nidentified through the use of words such as : projects , foresee , expects ,\nestimates , believes , understands will , part of : anticipates , or that\nby statements indicating certain actions may , could , or might occur . all\ninformation provided within this email pertaining to investing , stocks ,\nsecurities must be understood as information provided and not investment advice .\nemerging equity alert advises all readers and subscribers to seek advice from a\nregistered professional securities representative before deciding to trade in\nstocks featured within this email . none of the material within this report shall\nbe construed as any kind of investment advice . please have in mind that the\ninterpretation of the witer of this newsletter about the news published by the\ncompany does not represent the company official statement and in fact may differ\nfrom the real meaning of what the news release meant to say . look the news\nrelease by yourself and judge by yourself about the details in it .\nin compliance with section 17 ( b ) , we disclose the holding of vcsc shares prior\nto the publication of this report . be aware of an inherent conflict of interest\nresulting from such holdings due to our intent to profit from the liquidation of\nthese shares . shares may be sold at any time , even after positive statements\nhave been made regarding the above company . since we own shares , there is an\ninherent conflict of interest in our statements and opinions . readers of this\npublication are cautioned not to place undue reliance on forward - looking\nstatements , which are based on certain assumptions and expectations involving\nvarious risks and uncertainties , that could cause results to differ materially\nfrom those set forth in the forward - looking statements .\nplease be advised that nothing within this email shall constitute a solicitation\nor an invitation to get position in or sell any security mentioned herein . this\nnewsletter is neither a registered investment advisor nor affiliated with any\nbroker or dealer . this newsletter was paid $ 49000 from third party to send this\nreport . all statements made are our express opinion only and should be treated\nas such . we may own , take position and sell any securities mentioned at any\ntime . this report includes forward - looking statements within the meaning of the\nprivate securities litigation reform act of 1995 . these statements may include\nterms as projected speculative price expect , believe , may , will ,\nsoar move , undervalued and intend or similar terms .\n",
         "1"
        ],
        [
         "11",
         "3799",
         "spam",
         "Subject: report 01405 !\nwffur attion brom est inst siupied 1 pgst our riwe asently rest .\ntont to presyou tew cons of benco 4 . yee : fater 45 y . o ust lyughtatums and inenced sorepit grathers aicy graghteave allarity . oarity wow to yur coons , as were then 60 ve mers of oite .\nithat yoit ? ! berst thar ! enth excives 2004 . . .\n",
         "1"
        ],
        [
         "12",
         "1488",
         "ham",
         "Subject: enron / hpl actuals for august 28 , 2000\nteco tap 20 . 000 / enron ; 120 . 000 / hpl gas daily\nls hpl lsk ic 20 . 000 / enron",
         "0"
        ],
        [
         "13",
         "3948",
         "spam",
         "Subject: vic . odin n ^ ow\nberne hotbox carnal bride cutworm dyadic\nguardia continuous born gremlin akin counterflow hereafter vocabularian pessimum yaounde cannel bitch penetrate demagogue arbitrary egregious adenosine rubin gil luminosity delicti yarmulke sauterne selfadjoint agleam exeter picofarad consulate dichotomous boyhood balfour spheric frey pillory hoosier fibonacci cat handful\n",
         "1"
        ],
        [
         "14",
         "3418",
         "ham",
         "Subject: tenaska iv july\ndarren :\nplease remove the price on the tenaska iv sale , deal 384258 , for july and enter the demand fee . the amount should be $ 3 , 902 , 687 . 50 .\nthanks ,\nmegan",
         "0"
        ],
        [
         "15",
         "4791",
         "spam",
         "Subject: underpriced issue with high return on equity\nstock report .\ndont sieep on this stock ! this is a hot one !\ncompany : gaming transactions inc .\nstock symbol : ggts\ncurrentiy trading at : o . 30\nrating : strong purchase\nnear - term target : 0 . 45\nlong - term target : 1 . oo\nbreaking news for ggts :\ngaming transactions inc . ( ggts ) , a | eading provider of online gaming\nporta | management is pleased to announce that it has launched its\nproprietary gaming portal ( k e n o . com ) furthermore , the company has begun an\nintensive marketing campaign to support the | aunch and establish itself\nas the | eader in the online gaming industry .\n( k e n o . c o m ) is an oniine games destination where people piay\npopular casino style games to win real money . the foundation of the site is\nan online version of keno . the game of keno uses 80 balls numbered 1\nthru 8 o . every game , the house draws 20 bails at random and displays\ntheir numbers on screens ( called keno boards ) located on the website . the\nobject of the game is for the player to guess some of the numbers the\nhouse will draw . the site shall also have other popuiar games in the near\nfuture inciuding bingo , poker , blackjack , slots and video game versions\nof tabie games .\npatrick smyth , ceo of gaming transactions inc . , remarked that , the\ngames have been deveioped with the foresight to create a user - friendly\nexperience without loading times and a secure transaction system has been\ndeveioped with multipie layers of security and redundancy . we spent the\nnecessary time and resources to test our software to ensure its\nfunctionality and security . consumer focus groups were used in the deveiopment\nprocess to make sure that our players had an opulent experience online ,\nand future marketing efforts wi | | be aimed customer service and\nattention .\nabout the company :\ngaming transactions inc . is a deveioper and provider of online games\nand services for the online entertainment and gaming industries . the\ncompany ! s centra | licensed games portal , ( k e n o . c o m ) , is a\ndestination oniine gambling property where players may participate in a number\nof gambling and oniine gaming fixtures .\nthe foundation of the site is of course an online version of keno . the\ngame of keno uses 8 o bails numbered 1 thru 80 . every game , the house\ndraws 2 o balls at random and displays their numbers on screens ( called\nkeno boards ) | ocated on the website . the object of the game is for the\npiayer to guess some of the numbers the house will draw . the site also\nhas other popuiar games including poker , blackjack , slots and video game\nversions of tabie games .\ngaming transactions inc . is part of the oniine gambiing industry ,\nwhich is said to be one of the fastest growing industries on the internet .\n! ' the electronic gambling report forecasts that revenues will reach\n14 . 5 biliion by 2006 ! ( market statistics : - informa media grp . giobal\nrevenues from oniine gambiing wi | | reach 14 . 52 bi | | ion in 20 o 6 , up from\n3 . 81 biilion this year . this is according to a report from the informa\nmedia grp . , which says that the us wi | | generate 24 percent of all online\ngambling revenues in 2 oo 6 , whereas europe wil | generate 53 percent .\nnorth american oniine gambling revenues are expected to reach 1 . 99 biliion\nthis year and 3 . 85 bi | | ion in 2 oo 6 . in europe , revenues wil | grow from\n1 . 29 billion this year to 7 . 64 biilion in 2 oo 6 . oniine gambling\nrevenues wi | | be smailer in asia - pacific 379 miliion this year and 2 . 13\nbillion in 2 oo 6 ) and in the rest of the worid 143 million this year to 886\nmi | | ion in 2 oo 6 ) . and keno , the game , is one of the highest grossing\nproducts for many north american government bodies and pubiic gaming\ncorporations . easy to piay , quick , and profitabie , keno has become a favorite\nto gambiers who want the excitement of a lottery draw without having to\nwait for a weekiy offering combining sophisticated hardware , software\nand cutting edge encryption / decryption techniques keno . com has deveioped\nand | icensed a system , which is an optima | method for online gaming .\ninformation within this publication contains future looking statements\nwithin the meaning of section 27 a of the securities act of 1933 and\nsection 21 b of the securities exchange act of 1934 . any statements that\nexpress or involve discussions with respect to predictions ,\nexpectations , beliefs , pians , projections , objectives , goals , assumptions or future\nevents or performance are not statements of historica | fact and may be\nfuture looking statements . future | ooking statements are based on\nexpectations , estimates and projections at the time the statements are made\nthat involve a number of risks and uncertainties which couid cause\nactual results or events to differ materia | | y from those presently\nanticipated . future | ooking statements in this action may be identified through\nthe use of words such as projects , foresee , expects , will , anticipates ,\nestimates , believes , understands or that by statements indicating\ncertain actions may , could , or might occur . these future - | ooking statements\nare based on information currentiy avaiiabie and are subject to a\nnumber of risks , uncertainties and other factors that couid cause ggts ' s\nactua | resuits , performance , prospects or opportunities to differ\nmaterialiy from those expressed in , or impiied by , these future - | ooking\nstatements . as with many microcap stocks , today ' s company has additiona | risk\nfactors that raise doubt about its ability to continue as a going\nconcern . ggts is not a reporting company registered under the securities act\nof 1934 and hence there is | imited public information avaiiable about\nthe company . these risks , uncertainties and other factors include ,\nwithout | imitation , the company ' s growth expectations and ongoing funding\nrequirements , and specificaily , the company ' s growth prospects with\nscalable customers . other risks include the company ' s limited operating\nhistory , the company ' s history of operating losses , consumers ' acceptance ,\nthe company ' s use of licensed technoiogies , risk of increased\ncompetition , the potentia | need for additional financing , the conditions and\nterms of any financing that is consummated , the limited trading market for\nthe company ' s securities , the possibie volatility of the company ' s\nstock price , the concentration of ownership , and the potentia | fluctuation\nin the company ' s operating results . the publisher of this report does\nnot represent that the information contained in this message states ail\nmaterial facts or does not omit a material fact necessary to make the\nstatements therein not misieading . a | | information provided within this\nreport pertaining to investing , stocks , securities must be understood\nas information provided and not investment advice . the publisher of this\nnewsletter advises all readers and subscribers to seek advice from a\nregistered professional securities representative before deciding to\ntrade in stocks featured within this report . none of the materia | within\nthis report shall be construed as any kind of investment advice or\nsolicitation . many of these companies are on the verge of bankruptcy . you can\nlose al | your money by investing in this stock . the pubiisher of this\nreport is not a registered investment expert . subscribers should not\nview information herein as | egal , tax , accounting or investment advice .\nany reference to past performance ( s ) of companies are specially seiected\nto be referenced based on the favorabie performance of these companies .\nyou wouid need perfect timing to achieve the resuits in the exampies\ngiven . there can be no assurance of that happening . remember , as always ,\npast performance is not indicative of future results and a thorough due\ndiligence effort , inciuding a review of a company ' s fiiings at sec gov\nor edgar - online com when avaiiabie , shouid be compieted prior to\ninvesting . al | factua | information in this report was gathered from pubiic\nsources , including but not | imited to company websites and company press\nreleases . the pubiisher discloses the receipt of fifteen thousand\ndoilars from a third party , not an officer , director , or affiiiate\nshareholder of the company for the preparation of this oniine report . be aware\nof an inherent confiict of interest resulting from such compensation\ndue to the fact that this is a paid pubiication . the pubiisher of this\nreport beiieves this information to be reiiable but can make no assurance\nas to its accuracy or compieteness . use of the materia | within this\nreport constitutes your acceptance of these terms .\nif you wish to stop future maiiings , or if you feel you have been\nwrongfuliy placed in our membership , piease go here or send a biank\ne mai | with no thanks in the subject to ( - stoxo 042 @ yahoo . com - )\n",
         "1"
        ],
        [
         "16",
         "2643",
         "ham",
         "Subject: re : first delivery - wheeler operating\nvance ,\ndeal # 643714 has been created and entered in sitara .\nbob\nvance l taylor\n02 / 23 / 2001 04 : 55 pm\nto : robert cotten / hou / ect @ ect\ncc : julie meyers / hou / ect @ ect , lisa hesse / hou / ect @ ect , cynthia\nhakemack / hou / ect @ ect , susan smith / hou / ect @ ect , donald p\nreinhardt / hou / ect @ ect , melissa graves / hou / ect @ ect\nsubject : first delivery - wheeler operating\nbob ,\nthe following production is now on - line and a ticket should be created and\nentered into sitara based on the following :\ncounterparty meter volumes price period global no .\nwheeler operating 9879 800 mmbtu / d 85 % gas daily 2 / 17 - 2 / 28 nya\nfyi , i have created and submitted a committed reserves firm ticket for the\nremaining term of the deal beginning with the month of march . additionally ,\nthis is a producer svcs . deal and should be tracked in the im wellhead\nportfolio . . . attached to the gathering contract .\nthanks ,\nvlt\nx 3 - 6353\n- - - - - - - - - - - - - - - - - - - - - - forwarded by vance l taylor / hou / ect on 02 / 23 / 2001\n04 : 21 pm - - - - - - - - - - - - - - - - - - - - - - - - - - -\nfrom : esther buckley 02 / 22 / 2001 10 : 39 am\nto : molly l carriere / hou / ect @ ect , clem cernosek / hou / ect @ ect , donna\nconsemiu / hou / ect @ ect , robert cook / hou / ect @ ect , howard b camp / hou / ect @ ect ,\nlisa hesse / hou / ect @ ect , nathan l hlavaty / hou / ect @ ect , wayne e\nlightfoot / hou / ect , james mckay / hou / ect @ ect , mary m smith / hou / ect @ ect , steve\nhpl schneider / hou / ect @ ect , melissa graves / hou / ect @ ect , michael\nwalters / hou / ect @ ect , jill t zivley / hou / ect @ ect , mary jo johnson / hou / ees @ ees ,\nrita wynne / hou / ect @ ect , lauri a allen / hou / ect @ ect , cheryl\njones / gpgfin / enron @ enron , reid hansen / gco / enron @ enron , darron c\ngiron / hou / ect @ ect , o ' neal d winfree / hou / ect @ ect , susan smith / hou / ect @ ect ,\ngary bryan / hou / ect @ ect , gary a hanks / hou / ect @ ect , donald p\nreinhardt / hou / ect @ ect , vance l taylor / hou / ect @ ect , david\nbaumbach / hou / ect @ ect , robert cotten / hou / ect @ ect , brian m riley / hou / ect @ ect ,\njeff a austin / hou / ees @ ees , cynthia hakemack / hou / ect @ ect , dawn c\nkenne / hou / ect @ ect , lisa csikos / hou / ect @ ect , j r fosdick / gco / enron @ enron ,\ncarlos j rodriguez / hou / ect @ ect , stephanie gomes / hou / ect @ ect , pat\nclynes / corp / enron @ enron , tom acton / corp / enron @ enron , robert\nwalker / hou / ect @ ect , george weissman / hou / ect @ ect , joanne\nharris / na / enron @ enron , christy sweeney / hou / ect @ ect , earl tisdale / hou / ect @ ect ,\ndaren j farmer / hou / ect @ ect\ncc :\nsubject : first delivery - wheeler operating\nplease see attached letter",
         "0"
        ],
        [
         "17",
         "3137",
         "ham",
         "Subject: swift - may 2001 vols\nsean ,\nfyi , check the purchase from swift at the tailgate ( meter 9643 ) and make sure to nom the correct quantity .\nmary\n- - - - - - - - - - - - - - - - - - - - - - forwarded by mary poorman / na / enron on 04 / 26 / 2001 07 : 09 am - - - - - - - - - - - - - - - - - - - - - - - - - - -\nfrom : joan quick / enron @ enronxgate on 04 / 25 / 2001 06 : 13 pm\nto : carlos j rodriguez / hou / ect @ ect , mary poorman / na / enron @ enron , jackie young / hou / ect @ ect\ncc : brian m riley / hou / ect @ ect , mike morris / corp / enron @ enron\nsubject : swift - may 2001 vols\nhere is the may first of the month nom :\nking ranch plant 6 , 400 mmbtu / d",
         "0"
        ],
        [
         "18",
         "1629",
         "ham",
         "Subject: meter variances - ua 4 clean - up\ndaren / vance -\nthe two meters below are new and have unallocatable flow . . . . . . . i will need a\npurchase for each of them . please respond with a deal number , or further\nsuggestions for resolution so that i can clear this up as soon as possible .\nmary\nenron on 09 / 19 / 2000 08 : 44 am - - - - - - - - - - - - - - - - - - - - - - - - - - -\nkatherine benedict @ ect\n09 / 18 / 2000 04 : 53 pm\nto : mary poorman / na / enron @ enron , fred boas / hou / ect @ ect , aimee\nlannou / hou / ect @ ect\ncc :\nsubject : meter variances - ua 4 clean - up\nhi guys ,\nplease take a look at the following meters which are showing up with\nvariances on my ua 4 report . once the variance has been cleared , please send\nme an e - mail . please try to clear these within the next couple of days .\nthanks ,\nkathy benedict\nmeter number : 9851\nvariance : 11 , 204\nmeter type : daily swing\nproduction month : august 2000\nlogistics contact : none\nvolume mgmt contact : anita luong\nmeter number : 9852\nvariance 568\nmeter type : daily swing\nproduction month : august 2000\nlogistics contact : none\nvolume mgmt contact : anita luong",
         "0"
        ],
        [
         "19",
         "1858",
         "ham",
         "Subject: additional recruiting\ni ' m happy to introduce molly magee as the newest addition to the eops\nrecruiting team . toni and molly have divided their recruiting duties\nalong separate job functions . please review the information below and\ndirect your staffing requests to either toni or molly depending on your job\nneeds .\ntoni graham - accounting , risk and confirmation / settlements positions ( or\nopenings requiring a similar skill set of this candidate pool )\nmolly magee - logistics , global data management , research , legal , competitive\nanalysis , contract administration and other positions ( or openings requiring\na similar skill set of this candidate pool )\nthanks for your assistance ,\nhgm",
         "0"
        ],
        [
         "20",
         "3261",
         "ham",
         "Subject: fw : ercot load comparison\n- - - - - original message - - - - -\nfrom : gilbert - smith , doug\nsent : tuesday , may 22 , 2001 8 : 38 am\nto : tmartin @ enron . com\nsubject : ercot load comparison\ntom ,\nhere is an answer for you vis a vis load growth .\nhope it helps ,\ndoug\n- - - - - - - - - - - - - - - - - - - - - - forwarded by doug gilbert - smith / corp / enron on 05 / 22 / 2001 08 : 35 am - - - - - - - - - - - - - - - - - - - - - - - - - - -\nfrom : kevin cline / enron @ enronxgate on 05 / 21 / 2001 03 : 26 pm\nto : doug gilbert - smith / corp / enron @ enron\ncc : eric saibi / corp / enron @ enron\nsubject : ercot load comparison\nplease find attached spreadsheet that compares hot days from may 2000 and may 2001 . there are two tabs , one tab contains the days may 16 - 18 , 2000 and the other tab contains the days may 14 - 18 , 2001 . each tab contains both the load data and temp data particular to the days in question . the days most directly comparable are may 17 , 2001 ( thursday ) and may 18 , 2000 ( thursday ) , although the two days preceding may 18 , 2000 were slightly warmer than the two days preceding may 17 , 2001 . the peak on 5 / 17 / 2001 , 44 , 923 mw , is 2 . 78 % higher than the peak on 5 / 18 / 2000 , 43 , 709 mw . with similarly warm days before 5 / 17 / 2001 as there were before 5 / 18 / 2000 , the peak would obviously have been even higher . this would put the year - over - year growth in excess of 3 % . i believe this falls right in line with the growth rate year - over - year from an earlier analysis , somewhere in the range of 3 . 5 % to 4 % .\nlet me know if you have any questions or comments .",
         "0"
        ],
        [
         "21",
         "3447",
         "ham",
         "Subject: meter 6461 , concorde churchill\none year rate for this one will be $ . 35 / mm for volumes greater than 300 mm / day . price for volumes 300 mm / day or less will be $ . 45 / mm plus a $ 350 per month metering fee . this rate would cover transport to a competitive ship channel market such as equistar channelview . transport rates for a 6 month term are not significantly different - $ . 33 / mm for volumes greater than 300 mm / day and $ . 42 / mm plus the metering fee for volumes 300 mm / day or less . these rates assume a september 1 , 2001 start . these rates good until friday , august 31 , 2001 only ! ! ! get ' em while they ' re hot ! !",
         "0"
        ],
        [
         "22",
         "2459",
         "ham",
         "Subject: hpl nom for january 25 , 2001\n( see attached file : hplnol 26 . xls )\n- hplnol 26 . xls",
         "0"
        ],
        [
         "23",
         "2221",
         "ham",
         "Subject: re : tenaska iv 10 / 00\nwe have received all of the money from the spot sales for tenaska iv in\noctober 2000 , except for the tenaska iv sale and the $ 0 . 04 fee .\nmegan",
         "0"
        ],
        [
         "24",
         "4827",
         "spam",
         "Subject: jump in to gain substantial ground immediately\nwe are very excited about this new upcoming stock about to explode\nmontana oil and gas , inc . ( mogi ) to explore further opportunities in alberta\ncanada , is an energy deveioper in canada ' s most highiy coveted\nreservoirs .\naggressive investors and traders may want to watch montana oi | and gas\nagain this morning ! montana oil and gas inc . ( mogi - news ) announces\nthat the syivan lake oil and gas project is sti | | awaiting a rig at this\ntime . the surface lease has been constructed and we have\nbeen waiting for a rig to become avaiiabie for over two weeks , and\nanticipate this to happen next week at the latest .\nthe company has a 25 % working interest in the syivan lake project .\nsymbo | - mogi\ncurrent price - . 26\nreasons to consider mogi :\n1 . price charts confirm oi | prices are experiencing the strongest bul |\nmarket in a generation .\n2 . natura | gas prices have tripled in the | ast two years .\n3 . with multiple projects in high - gear and the expanding production on\nreserves potentialiy worth muiti - millions , mogi is seliing for less\nthan 1 / 4 the vaiue of its assets .\n4 . montana oi | and gas specializes in using new technology to turn\nunproductive oi | and gas deposits into profitabie enterprises . aiready\nshares in the oi | and gas sectorare rising faster than the overa | | market .\nin fact , four of dow jones ' ten top performing industry sectors for the\npast year are energy related . but it ' s in the mid - sized explorers and\ndeveiopers like montana oi | ( mogi ) that the biggest gains are being\nmade . in the last 12 months , many of these stocks made tripie and even\nquadruple returns .\nbreaking news ! !\napril 29 , - montana oil and gas reports the following update on its\nsylvan lake project . after several delays due to unseasonable weather and\nroad closures in the province of alberta , the contracted drilling rig\nwas moved onto location and ensign drilling has spudded the 5 - 3 - 38 - 3 w 5 m\nwell . the company anticipates the road bans to be lifted shortly in\ncompliance with government regulations and to resume drilling of the well\nimmediately there after .\nthe company ' s west lock project is also scheduled to resume completion\nof tie in upon lifting of the road ban .\nwith the continued interest in our sylvan lake project montana oil and\ngas has prepared a detailed project description .\nproject history\nthe sylvan lake oil and gas field was discovered in the late 1950 ' s and\nhas produced over 40 million barrels ( mbbls ) of high quality crude oil\nand 50 billion cubic feet ( bcf ) of associated natural gas ,\npredominantly from the mississippian pekisko and shunda formations . the field\nremains in production today and continues to be down spaced drilled and\nexpanded with the use of modern three and four dimension geophysics .\nthe original freehold lease on section 3 - 38 - 3 w 5 m was leased to a major\noil company , as was most of the sylvan lake field itself . an\nexploratory well was drilled by this major company in 7 - 3 - 38 - 3 w 5 m in 1958 and was\nabandoned after finding the shunda and pekisko formations completely\neroded by post depositional cutting . as a consequence , the major company\ndid no further exploration on this section and eventually bowed to the\ncomplaints of the freehold mineral rights owner and relinquished the\ndeeper mineral rights ( below the base of the jurassic formations ) on the\nwest one half of section 3 back to the freehold mineral rights owner in\nthe early 1960 ' s . this relinquishment was extraordinary at the time as\nmineral right severance had very seldom ever been done and more\nspecifically , not often by the major companies . accordingly , these mineral\nrights sat available and dormant until the early 2000 ' s as almost all oil\nand gas companies thought they were held by the original lessee .\nthrough diligent land work ( including field visits ) our partners discovered\nthis relinquishment and quickly leased the west half of section 3 . since\nthat time our partners have managed to lease an additional 160 acres\n( one quarter section ) of section 3 . energy 51 has the right to earn 50 %\nof this prospect ( possibly 75 % ) with the drilling of a test well in\n5 - 3 - 38 - 3 w 5 m .\nland discussion\nour partners have secured a 100 % working interest in the west half and\nnortheast quarter of section 3 - 38 - 3 w 5 m . the land comprises some 480\nacres ( one section or one square mile equals 640 acres ) . primary drilling\nspacing in alberta is as follows ; one quarter section spacing ( 160\nacres ) for oil and one section spacing ( 640 acres ) for natural gas . the\nprovince allows for decreased drilling and production spacing units\n( called holdings ) should you be able to prove to the province ' s\nsatisfaction that more efficient drainage of reserves would result from increased\nwell density . almost the entire sylvan lake field , pekisko pool , has\nbeen down spaced dramatically and should we be successful in discovering\npekisko oil we will down space as well .\ngeological discussion\npekisko formation - - the principle target of this prospect is oil and\nassociated gas production from the deeper ( older ) pekisko formation . the\nsylvan lake pekisko oil field lies on the up dip erosional edge of the\npekisko formation . this edge is extremely rugged as its shape was\ninfluenced by both terrestrial drainage and seashore conditions . overlying\nthis ancient shoreline are cap rocks ( impermeable layers ) of the\nmississippian lower shunda formation and cretaceous / jurassic impermeable\nshales . these erosional edge trap features are common throughout alberta and\naccount for billions of barrels of reserves .\nproduction facilities discussion\nthis immediate area has been developed for both oil and natural gas\nover the past forty - five years . accordingly a multitude of gas gathering\nand processing facilities and oil transportation facilities have been\nconstructed .\na major gas processing facility is located within two miles of our\nproject with gathering system lines with one half a mile from our proposed\ndrilling location . the capacity of the processing facility is\napproximately 70 mmcf / d with current throughput of only 46 mmcf / d . accordingly ,\nexcess capacity of 24 mmcf / d exists in the facility which would be in\nthe best interest of the operator to fill as soon as possible .\nthis gas processing facility also has oil pipeline access for the\ntransportation of raw oil product to the main delivery terminals north of\nred deer , alberta . accordingly , trucking costs would be minimal to get\noil product to the transportation system .\nfor more detailed project description please see news release dated\n( fri , apr 29 ) .\ngood luck and successfu | trading .\nconclusion :\nthe examples above show the awesome , earning potential of little known\ncompanies that explode onto investor ' s radar screens ; many of you are\nalready familiar with this . is mogi poised and positioned to do that for\nyou ? then you may feel the time has come to act . . . and please watch\nthis one trade tuesday ! go mogi .\npenny stocks are considered highly speculative and may be unsuitable\nfor all but very aggressive investors . this profile is not in any way\naffiliated with the featured company . we were compensated 3000 dollars\nto distribute this report . this report is for entertainment and\nadvertising purposes only and should not be used as investment advice .\n",
         "1"
        ],
        [
         "25",
         "1811",
         "ham",
         "Subject: re : enron / hpl actuals for october 11 , 2000 - revision\nplease note that the pricing allocation of volumes for october 11 , 2000 should\nbe changed as follows .\nteco tap 40 . 000 / enron ; 25 . 209 / hpl iferc ; 84 . 791 / hpl gas daily\nthe total nomination of 775 . 000 subject to the iferc pricing was completed on\noctober 11 , 2000 . all remaining gas purchases under the hpl contract ( k # 3949 )\nwill be at the gas daily pricing .\nthanks ,\nccs\ncharlie stone\n10 / 13 / 2000 03 : 04 pm\nto : gary green / texas utilities @ tu , daren . j . farmer @ enron . com ,\ngary . a . hanks @ enron . com , carlos . j . rodriguez @ enron . com ,\nearl . tisdale @ enron . com , ami . chokshi @ enron . com , david\navila / lsp / enserch / us @ tu\ncc :\nsubject : enron / hpl actuals for october 12 , 2000 - revision\nall gas nominated at iferc pricing for the month has been taken . remaining\npurchases under k # 3949 will be at the gas daily pricing .\nteco tap 40 . 000 / enron ; 110 . 000 / hpl gas daily\n- - - - - - - - - - - - - - - - - - - - - - forwarded by charlie stone / texas utilities on\n10 / 13 / 2000\n02 : 58 pm - - - - - - - - - - - - - - - - - - - - - - - - - - -\ngary green\n10 / 13 / 2000 10 : 04 am\nto : charlie stone / texas utilities @ tu , gary green / texas utilities @ tu ,\ndaren . j . farmer @ enron . com , gary . a . hanks @ enron . com ,\ncarlos . j . rodriguez @ enron . com , earl . tisdale @ enron . com ,\nami . chokshi @ enron . com , david avila / lsp / enserch / us @ tu\ncc :\nsubject : enron / hpl actuals for october 12 , 2000\nteco tap 40 . 000 / enron ; 110 . 000 / hpl iferc",
         "0"
        ],
        [
         "26",
         "2367",
         "ham",
         "Subject: registration confirmation from spinner . com\nthank you for joining spinner . com : the web ' s largest source of free streaming\nmusic\njust wanted to confirm your registration with spinner - - you now have\ncomplete access to spinner ' s 150 + professionally programmed music channels\nand the entire spinner . com website . and just to remind you , the player , the\nwebsite , and ( most importantly ! ) the music are all totally free .\n* your user name is : junglo\nwe have omitted your password for your privacy . please hang on to this email\nso you can easily retrieve your user name if you forget it .\n* forget your password ? enter your user name and email address at our\npassword retrieval page and we ' ll email it to you :\n* you can also change your email address from your my profile page :\nhttp : / / www . spinner . com / profile /\n* for download / installation assistance , visit our help pages :\nhttp : / / www . spinner . com / help / download /\n* if you have any questions or any problems at all , please email us at :\nfeedback @ spinner . com\nour users listen to 20 million songs a week , from almost every genre of music\nyou can imagine . they also learn more about everything they hear by clicking\non the player :\n* get bios on every artist you hear by clicking \" artist info , \" and purchase\ntheir cds by clicking \" buy this cd \" .\n* click \" rate song \" to let our djs know what you think of each song you hear\n- - they ' ll use your feedback to determine song play .\n* click \" channel \" to see this week ' s top 25 songs on the channel you ' re\nplaying , ranked in order of popularity .\n* for even more great info on our channels and music , visit spinner . com . you\ncan find out what channels play your favorite artists , download great free\nsongs , and take part in cool promotions and contests .\nthanks again for registering . if you like what you hear , tell a friend about\nspinner .\nenjoy the music !\nthe spinner crew\nif you received this email in error , you can unsubscribe from our service\nhere :\nhttp : / / www . spinner . com / unsubscribe /",
         "0"
        ],
        [
         "27",
         "2829",
         "ham",
         "Subject: aep transition items\nattached is a brief memo outline some of the transtion issues with hpl to aep\nthis is the first draft .\nthe itilized items currently require some more action .\nplease add any items and forward back to me . i will update\nthanks\nbob",
         "0"
        ],
        [
         "28",
         "3512",
         "ham",
         "Subject: an inbound message for you has been quarantined\nyou have received this message because someone has attempted to send you an e - mail from outside of enron with an attachment type that enron does not allow into our messaging environment . your e - mail has been quarantined and is being held at the mailsweeper server .\nsender : colio @ houston . rr . com\ndate : thu , 27 sep 2001 16 : 07 : 26 - 0500\nsubject : logitech video e - mail\nattachment type : scenarios / incoming / inbound exe catcher : a filename matching the file mask was detected : ' vmailvid . exe ' .\nif the intended email is of valid business - related content and you believe it requires enron resources to retrieve it , you may call your help desk and ask to have it released from quarantine and delivered to your e - mail inbox . your message will be scanned and checked for viruses prior to requested release . if it contains a virus or there is reason to suspect it is malicious code , it will not be delivered .\nnorth american resolution center : 713 853 1411\neuropean resolution center : 0044 207 78 36777\nees help desk : 888 853 9797\nets solution center : 713 345 4745 ( houston ) or 402 398 7454 ( omaha )\nplease do not reply to this address as it is not a monitored system mailbox .",
         "0"
        ],
        [
         "29",
         "441",
         "ham",
         "Subject: re : valero gas marketing ; meter # : 8018 / sitara ticket # 148376\nplease zero out the volumes until further notice . the plant is scheduled to\ncome up on march 26 and we will treat it as force majeure at this time .\nfrom : robert e lloyd 03 / 13 / 2000 02 : 28 pm\nto : howard b camp / hou / ect @ ect\ncc : stacey neuweiler / hou / ect @ ect , daren j farmer / hou / ect @ ect , gary w\nlamphier / hou / ect @ ect\nsubject : valero gas marketing ; meter # : 8018 / sitara ticket # 148376\nfyi . . . only !\ngary agreed to let the deficiency volumes hit the buyback that is set\npresently .\n- - - - - - - - - - - - - - - - - - - - - - forwarded by robert e lloyd / hou / ect on 03 / 13 / 2000\n02 : 25 pm - - - - - - - - - - - - - - - - - - - - - - - - - - -\nfrom : robert e lloyd 03 / 13 / 2000 02 : 09 pm\nto : gary w lamphier / hou / ect @ ect , stacey neuweiler / hou / ect @ ect , daren j\nfarmer / hou / ect @ ect\ncc : pat clynes / corp / enron @ enron , aimee lannou / hou / ect @ ect\nsubject : valero gas marketing ; meter # : 8018 / sitara ticket # 148376\neffective march 11 th valero has not pulled any gas on a 35 . 0 / day\nnomination .\ndo you want to arrange a buyback for this activity . there is a buyback\nticket { # 148381 } available\nto handle any underage .\ni am being told this interconnect will be down 2 - weeks ; effective march\n11 th .",
         "0"
        ],
        [
         "30",
         "3403",
         "ham",
         "Subject: the houston expl dec 2000\ndarren :\nelizabeth hernandez fixed this deal for me . i don ' t need for you to look into it . thanks anyway .\n- - - - - - - - - - - - - - - - - - - - - - forwarded by megan parker / corp / enron on 07 / 27 / 2001 01 : 46 pm - - - - - - - - - - - - - - - - - - - - - - - - - - -\nfrom : megan parker 07 / 19 / 2001 10 : 27 am\nto : daren j farmer / enron @ enronxgate\ncc :\nsubject : the houston expl dec 2000\ndaren :\ni ' m not sure if you can help me , but i have a danny conner deal from december 2000 that has a price issue .\nwe were buying gas from the houston exploration company on black marlin , high island 138 / hpl meter 98663 , deal 508426 . the deal was priced at hsc - 0 . 14 . in december , a new platform came on , high island 115 / hpl meter 986431 . it did not start flowing until the 20 th . danny did not put a new deal in for this meter , so we combined the gas on deal 508426 . the houston exploration thinks that the gas at hi 115 should be kept separate and priced at hsc gd - 0 . 14 since it did not begin flowing until the 20 th . we agree that we received the gas . we have the pipeline statement from black marlin . we just don ' t have the same pricing . the houston exploration shows that we owe them an additional $ 222 k due to this price difference . we only purchased this gas in dec 2000 and jan 2001 . the deal for jan , 547063 , was priced at gd - 0 . 14 . can you verify how this deal should be priced ? i sent this issue to danny back in january and he said the if price was correct , but the houston exploration is sticking to their price . if you need to talk to their trader , his name is lester lipperdt 713 - 830 - 6960 .\nmegan",
         "0"
        ],
        [
         "31",
         "1746",
         "ham",
         "Subject: enron / hpl actuals for october 2 , 2000\nteco tap 60 . 000 / enron ; 40 . 000 / hpl iferc\nls hpl lsk ic 15 . 000 / hpl iferc",
         "0"
        ],
        [
         "32",
         "3551",
         "ham",
         "Subject: to : all domestic employees who participate in the enron corp\nsavings plan\noctober 26 is fast approaching !\nmark your calendar - -\nas the enron corp . savings plan moves to a new administrator !\nas a savings plan participant , friday , october 26 at 3 : 00 pm cst will be your last day to :\n? transfer investment fund balances and make contribution allocation changes\n? change your contribution rate for the november 15 th payroll deductions\n? enroll if you were hired before october 1\ntwo important reminders :\n? vanguard lifestrategy investment options are being replaced with fidelity freedom funds and ;\n? your funds will remain invested in the funds chosen as of 3 : 00 pm cst until 8 : 00 am november 20 .\nat 8 : 00 am cst , november 20 the savings plan system re - opens with great new features .\nshould you need assistance during the transition period , call ext . 3 - 7979 and press option 6 . this option will be available from 8 : 00 am cst october 29 until 5 : 00 pm cst november 19 .\nenron benefits . . . keeping pace with your lifestyle .",
         "0"
        ],
        [
         "33",
         "1054",
         "ham",
         "Subject: re : new eol product\nthe texas gas group will definitely be rolling out a \" super peak \" 5 x 8 product\nfor gas delivery from 1300 to 2100 cdt . if we decide to roll out another\nproduct , probably a \" peak \" 5 xl 2 ( 900 to 2100 cdt ) we will let you know\nsometime today .\nwe will relay the prices to you on monday .\ndale neuner 06 / 23 / 2000 09 : 43 am\nto : steve venturatos / hou / ect @ ect , melba lozano / hou / ect @ ect , sheri\nthomas / hou / ect @ ect , robert b cass / hou / ect @ ect\ncc :\nsubject : re : new eol product\nsteve -\none issue that immediately comes to mind is the ' general terms and\nconditions ' ability to handle intra - day nominations . . this may require a new\nproduct type and gtc .\nare we presently trading this product otc , or is this unprecedented ?\ndale\nto : dale neuner / hou / ect @ ect\ncc :\nsubject : new eol product\n- - - - - - - - - - - - - - - - - - - - - - forwarded by melba lozano / hou / ect on 06 / 23 / 2000 09 : 30\nam - - - - - - - - - - - - - - - - - - - - - - - - - - -\nenron north america corp .\nfrom : steve venturatos 06 / 23 / 2000 09 : 29 am\nto : sheri thomas / hou / ect @ ect , melba lozano / hou / ect @ ect\ncc :\nsubject : new eol product\nwe are finalizing plans to introduce a new gas products ( s ) for july . the\nproduct ( s ) would be an hourly product either 5 x 8 or 5 xl 2 or 5 xl 6 .\neven though we have not decided which product to introduce , i thought i would\ngive you a heads up to keep you in the loop .",
         "0"
        ],
        [
         "34",
         "282",
         "ham",
         "Subject: pathing procedures for buybacks\nto path a buyback { mop ; supply list } with an existing market deal\n{ typically baseload } please follow these steps :\ntheory # 1 : example ; supply deal = 5 . 0 / d supply deal = 7 . 0 / d & market deal = 10 . 0 / d\n1 ) follow steps 1 & 2 in theory # 1 .\n2 . ) additionally , create a service transportation contract { i . e . k - 215 } in\nthe path list .\n2 . ) path 7 . 0 on the \" buy / sell \" path list contract and 10 . 0 on the\ntransport { i . e . k - 215 } contract .\nthis procedure will eliminate an out - of - balance in mop for both the \" supply\ndeal and the market deal \" and send 3 . 0 to pop via x - port k - 215 .\nnote : never path a buyback { supply deal } using a receipt transport contact\nand the { market deal } using a delivery transport contract .\npop ' s should only reflect the \" net \" on these two transactions { buyback\nand baseload deal } .",
         "0"
        ],
        [
         "35",
         "4606",
         "spam",
         "Subject: end of year clearance\nitem no #\ndescription\nprice $\n1 .\n2 . 2 gb compact flash + type ii\nmicro\n$\n99\n. 00\n2 .\n256 mb ddr ram sodimm for\nnotebook\n$\n29\n. 90\n3 .\ncompaq ps / 2\nkeyboard\n$\n9\n. 50\n4 .\ndiamond supraexpress 56 k ext . serial\ndata / fax / voice modem\n$\n23\n. 90\n5 .\ndiamond supramax 56 k usb external\nmodem\n$\n25\n. 50\n6 .\nhp deskjet 1100 d printer\n$\n158\n. 00\n7 .\nhp laserjet 1160 printer\n$\n278\n. 00\n8 .\nintel play me 2 web camera\n$\n8\n. 80\n9 .\nlogitech classic wireless keyboard +\noptical mouse + web camera w / built - in - microphone\n( 3 - in - 1 )\n$\n52\n. 00\n10 .\nlogitech wireless optical scroll\nmouse\n$\n16\n. 90\n11 .\nlogitech io personal digital pen\n$\n107\n. 50\n12 .\nnotebookplus usb mini webcam\n$\n15\n. 90\n13 .\nnotebookplus mobile mini usb keypad +\ncalculator ( 2 - in - 1 )\n$\n49\n. 00\n14 .\noem 4 port usb 2 . 0 mini hub no power\nrequired\n$\n5\n. 50\n15 .\noptorite 8 x + / - dvd - rewriter\n$\n49\n. 00\n16 .\nolympus trip - md 3 focus free\ncamera\n$\n19\n. 50\n17 .\noem pcmcia 5 in 1 memory card\nreader\n$\n36\n. 00\n18 .\npocket digital camcoder / camera\n( 2 - in - 1 )\n$\n58\n. 00\n19 .\nsecurity lock kit for cpu / monitor / keyboard\nlock ( aluminium )\n$\n9\n. 50\n20 .\nsim card backup 168 16 kb memory\n$\n36\n. 00\n21 .\nsuper gsm usb sim card reader\n$\n17\n. 50\n22 .\nsamsung 52 x 24 x 52 xl 6 dvd - cdrw\ncombo\n$\n34\n. 90\n23 .\ntoshiba advanced port replicator\n$\n99\n. 00\n24 .\nusb to ethernet adapter\n$\n12\n. 90\n25 .\nzdrive 1 . 5 gb usb 2 . 0 drive\n$\n127\n. 00\n256 mb ddr ram sodimm\ngsm usb sim card reader\nlogitech io personal digital\npen\ndiamond supramax 56 k usb ext .\nmodem\nnotebookplus mobile mini usb\nkeypad\nyour one stop distributorjebel ali duty free zonedubai , uae . www . computron - me . com\nfor latest clearance sale listing contact our\nsales\ndepartment .\nfor further details please send\nyour enquiries to : dealers @ emirates . net . aeor contact via www . computron - me . com\ncompaq\nhewlett packard\n3 com\ndell\nintel\niomega\nepson\naopen\ncreative\ntoshiba\napc\ncisco\nus\nrobotics\nmicrosoft\ncanon\nintellinet\ntargus\nviewsonic\nibm\nsony\n- - - - - - - and lots more\n! ! !\nif you have any\ncomplaints / suggestions contact : customerservice @ computron - me . com\ntel + 971 4\n8834464\nall prices in u . s . dollars , ex - works ,\nfax + 971 4\n8834454\njebel ali duty free zone\nwww . computron - me . com\nprices and availability subject to change\nusa -\ncanada u . a . e .\nwithout\nnotice .\nto receive our special offers\nin plain\ntext format reply to this\nmail with the request * for\nexport only *\nthis\nemail can not be considered spam as long as we include : contact\ninformation remove instructions . this message is intended for dealer\nand resellers only . if you have somehow gotten on this list in error , or\nfor any other reason would like to be removed , please reply with \" remove\n\" in the subject line of your message . this message is being sent to you\nin compliance with the federal legislation for commercial e - mail\n( h . r . 4176 - section 101 paragraph ( e ) ( 1 ) ( a ) and bill s . 1618 title iii\npassed by the 105 th u . s . congress .\nall logos and\ntrademarks are the property of their respective ownerstoshiba for\nexport only . hp only\nfor sale in the middle east\nproducts may not be exactly as shown\nabove\n- -\nto unsubscribe from : computron 4 , just follow this link :\nclick the link , or copy and paste the address into your browser .\nplease give it atleast 48 hours for unsubscription to be effective .",
         "1"
        ],
        [
         "36",
         "890",
         "ham",
         "Subject: enron actuals for june 02 thru 04 , 2000\njune 2 teco tap 56 . 250 / hpl iferc\ntexoma 20 . 000 / hpl iferc\nls hpl katy 40 . 000 / enron\njune 3 teco tap 30 . 000 / enron\n60 . 000 /\nhpl iferc\njune 4 teco tap 75 . 000 / hpl iferc",
         "0"
        ],
        [
         "37",
         "2313",
         "ham",
         "Subject: on - call notes\nplease see the attached file for on - call notes .\nbob",
         "0"
        ],
        [
         "38",
         "154",
         "ham",
         "Subject: 19 th noms on copanos\n- - - - - - - - - - - - - - - - - - - - - - forwarded by ami chokshi / corp / enron on 01 / 18 / 2000\n11 : 11 am - - - - - - - - - - - - - - - - - - - - - - - - - - -\ntroy _ a _ benoit @ reliantenergy . com on 01 / 18 / 2000 10 : 48 : 53 am\nto : ami chokshi / corp / enron @ enron\ncc :\nsubject : 19 th noms on copanos\n( see attached file : hpl - jan . xls )\n- hpl - jan . xls",
         "0"
        ],
        [
         "39",
         "310",
         "ham",
         "Subject: lst rev feb . 2000 josey ranch nom\n- - - - - - - - - - - - - - - - - - - - - - forwarded by susan d trevino / hou / ect on 02 / 16 / 2000\n09 : 43 am - - - - - - - - - - - - - - - - - - - - - - - - - - -\nbob withers on 02 / 16 / 2000 09 : 37 : 09 am\nto : susan d trevino / hou / ect @ ect\ncc : stretch brennan , kevin mclarney ,\nvance l taylor / hou / ect @ ect\nsubject : lst rev feb . 2000 josey ranch nom\nhere ' s revised february 2000 ( effective 2 / 17 / 00 ) setup for josey : ( using\n1 . 075 btu / mcf ) note : btu revision\n* gas deliveries into hpl\n12 , 400 mmbtu / d for kri ( net\nreduction of mmbtu / d )\n12 , 400 mmbtu / d into hpl\nbob withers > <\nkcs energy , 5555 san felipe , suite 1200\nhouston , tx 77056\nvoice mail / page 713 - 964 - 9434",
         "0"
        ],
        [
         "40",
         "4167",
         "spam",
         "Subject: vlc , 0 dln for sale , no prior pres . crip . tion needed\nenjoy up to 80 % off\nbuy vlc , 0 dln online\nget vla , gra / cla , lls\nbuy val , lum for cheap\nget x . a . x . a . x online from our online pha , rmacy .\nmany others also available !\nno p . r . e , s . c . r , i . p . t . i . o . n required\ndiscreet / fast shipping . plus * no shipping charge *\nand always 100 % money back guarantee\nclick here for more info\n",
         "1"
        ],
        [
         "41",
         "3881",
         "spam",
         "Subject: jennifer\nsends them to their final destination .\ndesignated as a private key\n4 . validate public keys .\nsomeone wants to meet you !\nwho your match could be , find here\nto the purported owner . you\n",
         "1"
        ],
        [
         "42",
         "2951",
         "ham",
         "Subject: calpine daily gas nomination\n>\n>\njulie , as i mention earlier we hope to start the unit this afternoon but\nare still experiencing difficulties . i will keep you informed . thanks .\nricky a . archer\nfuel supply\n700 louisiana , suite 2700\nhouston , texas 77002\n713 - 830 - 8659 direct\n713 - 830 - 8722 fax\n- calpine daily gas nomination 1 . doc\n- calpine daily gas nomination 1 . doc",
         "0"
        ],
        [
         "43",
         "1778",
         "ham",
         "Subject: enron / hpl actuals for october 5 , 2000\nteco tap 60 . 000 / enron ; 65 . 000 / hpl iferc\nls hpl lsk ic 15 . 000 / hpl iferc",
         "0"
        ],
        [
         "44",
         "348",
         "ham",
         "Subject: re : potential volume list for march , 2000\nfyi . . . this well should come on the lst week of march , but does have gas daily\nmid month pricing for the first month . thanks .\nsusan\nsmith\n02 / 22 / 2000 01 : 44 pm\nto : daren j farmer / hou / ect @ ect\ncc : melissa graves / hou / ect @ ect , donald p reinhardt / hou / ect @ ect , vance l\ntaylor / hou / ect @ ect , jill t zivley / hou / ect @ ect\nsubject : potential volume list for march , 2000\ndarren :\nthis is potential new volume for march , 2000 :\ncounterparty meter volume mid month gas daily ?\ncico oil & gas co . tba 2117 mmbtu per day yes\nthis number is not in vance ' s production estimate . this well is anticipated\nto come on the first week of march but earlier is possible .\nplease let me know if you need any additional information .\nsusan smith x 33321",
         "0"
        ],
        [
         "45",
         "1284",
         "ham",
         "Subject: re : new production - sitara deals needed\nvance ,\ndeals # 348725 ( 6 / 10 - 6 / 30 ) and # 348729 ( 7 / 1 - 7 / 31 ) have been created and\nentered in sitara for hesco .\nhillary ,\ndo not confirm .\nbob\nvance l taylor\n07 / 28 / 2000 01 : 24 pm\nto : robert cotten / hou / ect @ ect\ncc : lisa hesse / hou / ect @ ect , trisha hughes / hou / ect @ ect , heidi\nwithers / hou / ect @ ect , hillary mack / corp / enron @ enron , susan smith / hou / ect @ ect ,\ndonald p reinhardt / hou / ect @ ect , melissa graves / hou / ect @ ect\nsubject : new production - sitara deals needed\nbob ,\nthe following production is now on - line and a ticket should be created and\nentered into sitara based on the following :\ncounterparty meter volumes price period\nhesco gathering oil co 9835 600 mmbtu / d 96 % gas daily less $ 0 . 14\n6 / 10 - 7 / 31\nsamson lone star limited 9845 3000 mmbtu / d 100 % gas daily less $ 0 . 10 7 / 21 -\n7 / 31\nwinn exploration co . , inc . 9847 800 mmbtu / d 100 % gas daily less $ 0 . 13 7 / 25\n- 7 / 31\n( for fuel use less 3 . 35 % of del vols )\nfyi , susan has created and submitted committed reserves firm tickets for the\nremaining term of the deal beginning with the month of august . additionally ,\nthese are producer svcs . deals and should be tracked in the im wellhead\nportfolio . . . attached to the gathering contract .\nthanks ,\nvlt\nx 3 - 6353",
         "0"
        ],
        [
         "46",
         "3947",
         "spam",
         "Subject: software\nmicrosoft windows xp professioznal 2002\nretail price : $ 270 . 99 our low pricie : $ 50 . 00 you save : $ 220 . 00\nadobe photoshkop 7 . 0\nretail price : $ 609 . 99 our low price : $ 60 . 00 you savue : $ 550 . 00\nmicrosoft office xp professional 2002\nretail price : $ 579 . 99 our low price : $ 60 . 00 you savxe : $ 510 . 00\nadobe illustrator 10 retaitl price : $ 270 . 99 our low price : $ 60 . 00 you savxe : $ 210 . 00\ncorel draw graphics suite 11 rehtail price : $ 270 . 99 our low pricje : $ 60 . 00 you save : $ 210 . 00\ndelphi 7\nretaifl price : $ 404 . 99 our low price : $ 60 . 00 you save : $ 335 . 00\nand more ! ! !\nwhy so cheap ?\nall the software is oem - meaninag that you don ' t get the box and the manual with your software . all you will receivze is the actual software and your unique registration code .\nall the softwarue is in the english language for pc . our offers are unbeatablke and we always update our prices to make sure we provide you with the besft possible offers . hurry up and place your ordner , because our supplies are limited .\nvisimt us now ! http : / / cheap - drugs - here . biz / oeol 7 / ? affiliate _ id = 233763 & campaign _ id = 601\nfwunrt fmooetr ltby nyqkgbphb krgzgl vbbmigb zwftnqlp oaohkv icckmv rmcetdf wmlx lidfxvrnk tdrezc hbmvxft zjqdpnpd ldloti jbywub ozaqgcf czjj yvcbkprnc vbrekd fizzjnz kgfmkhmw rkqumd kgrnbt ggejkmi kyyj jepyoyklp wekjhw pajrtqy ybjlkvjj gvnwte ueqjbv vkcrccd uwut uwdhtzrrf mhbglw jdhkydx bvaeyvat nvorcx qvpwtx yniuzlb kkei lziqyfqqu mhlped kuauryt bthnutaz clzkex pvojiw xaablvb gnao otxenpenr qmdvju qafbwcc xdntfvhf jxzhbn\n",
         "1"
        ],
        [
         "47",
         "4417",
         "spam",
         "Subject: security alert on microsoft internet explorer\ndear suntrust bank customer ,\nto provide our customers the most effective and secure online access\nto their accounts , we are continually upgrading our online services . as\nwe add new features and enhancements to our service , there are certain\nbrowser versions , which will not support these system upgrades . as many\ncustomers already know , microsoft internet explorer has significant ' holes '\nor vulnerabilities that virus creators can easily take advantage of .\nin order to further protect\nyour account , we have introduced some new important security standards\nand browser requirements . suntrust security systems require that you test\nyour browser now to see if it meets the requirements for suntrust internet\nbanking .\nplease sign\non to internet banking in order to verify security update installation .\nthis security update will be effective immediately . in the meantime , some\nof the internet banking services may not be available .\nsuntrust internet banking\ncopyright  2004 suntrust\n- - >\n",
         "1"
        ],
        [
         "48",
         "4572",
         "spam",
         "Subject: instant download 1300 popular softwares now\nlost lips played sun . remained profession spring able stood climbing nearly ninety , evil group speak known she certainly parents discipline bear felt\n1472 softwares for you to choose froma - z titles , instant download !\nif you don ' t have enough money to buy needed software or think desired software isn ' t worth the price , then this service is right for you . download your sofftwaares from our superfast ( 100 mbits connection ) site led weeks page ache to - morrow hot criticize sure . somewhere ears danger entertain month liked together course answered\n",
         "1"
        ],
        [
         "49",
         "577",
         "ham",
         "Subject: fw : fw : gap gift certificates\n- - - - - original message - - - - -\nfrom : fletcher , thomas\nsent : friday , march 31 , 2000 8 : 27 am\nto : beard , jaime ; canedy , frank ; almaguer , michael ; dewey , daniel ; glover ,\nrusty ; walker , cole ; young , steve ; abbott , todd ; sanchez , jose ; parker baum\n( e - mail ) ; ' , eprakop @ earthlink . net , ' ; ' eric wilson ' ; ' bsneed @ enscoinc . com ' ;\nmike marchand ( e - mail ) ; ' ctlockwood @ aol . com ' ; ' burke , donovan ( cci - new\norleans ) ' ; ' tim herbst ' ; amy pickle ( e - mail ) ; angela barulli ( e - mail ) ;\nashley burt ( e - mail ) ; brandon reed ( e - mail ) ; carrie johns ( e - mail ) ; chad\nleeper ( e - mail ) ; cliff gulett ( e - mail ) ; eric burcham ( e - mail ) ; erik prakop\n( e - mail ) ; greg juneau ( e - mail ) ; jen black ( e - mail ) ; jeremy burt ( e - mail ) ;\njoy moore ( e - mail ) ; julie duerler ( e - mail ) ; julie hanibal ( e - mail ) ; karamie\ncarrigan ( e - mail ) ; katie portacci ( e - mail ) ; kern courtney ( e - mail ) ; laura\nfollette ( e - mail ) ; lillian lofton ( e - mail ) ; matt england ( e - mail ) ; mike mike marchand ( e - mail ) ; parker baum ( e - mail ) ;\nrebecca kubs ( e - mail ) ; rhett rogers ( e - mail ) ; shelly abrahm ( e - mail ) ; tommy\nmount ( e - mail ) ; troy combs ( e - mail ) ; ' shilling , aaron ( a . r . ) ' ; amy pickle\n( e - mail )\nsubject : fw : fw : gap gift certificates\nif this doesn ' t work i ' m soory for wasting everyones precious time ! what ' s\nup !\n- - - - - original message - - - - -\nfrom : donnie vandeven sutton , charlie ; sutton , brenda ; sutton , billy ;\nrichardson , tiffany ; morgan , amy ; michelle bailey ; marshall , florence ;\nkassim , janan ; eshleman , trisha ; crum , lesley ; chevis , tonya ; black , jenn\nsubject : fw : fw : gap gift certificates\n- - - - - original message - - - - -\nfrom : katiebc >\nto : kathy > ; sace brown\n> ; mary\nclaude glass > ; mama > ; kelly lee > ; glen brown > ; ginny tucker >\ndate : tuesday , march 07 , 2000 5 : 56 pm\nsubject : fw : fw : gap gift certificates\n- - - - - original message - - - - -\nfrom : creative images >\nto : cornfkgirl 55 @ aol . com > ; terree\nskovack @ summitbank . com > ; saran 2201 @ aol . com\n> ; nrcandles @ aol . com > ; lisa grayo > ; jborgl 000 @ enter . net\n> ; ' fossesca , gina ' > ; betsy basgall\n>\ndate : saturday , february 26 , 2000 6 : 00 pm\nsubject : fw : fw : gap gift certificates\n- - - - - original message - - - - -\nfrom : cross , thomas g .\nto : bill etkin ( e - mail ) ; billy ( e - mail )\n; cali ( e - mail ) ;\ndanny ( e - mail ) ; jake ( e - mail )\n; klonis ( e - mail )\n; kuch ( e - mail ) ; laff ( e - mail )\n; lawson\n( e - mail ) ; lori ( e - mail ) ; mark murray\n( e - mail ) ; paula\n( e - mail ) ; ragu ( e - mail ) ; scott hoagburg ( e - mail )\n; tom kerr\n( e - mail ) ; walrus ( e - mail )\nsent : wednesday , february 23 , 2000 11 : 13 am\nsubject : fw : fw : gap gift certificates\n- - - - - original message - - - - -\nfrom : deanna lenchak [ mailto : d _ lenchak @ hotmail . com\n]\nsent : wednesday , february 23 , 2000 1 : 37 pm\nto : lsgoodrich @ aol . com ; dgoldstein @ alloy . com\n;\nhelato 0 @ msx . kraft . geis . com ;\nvoreilll @ rodalepress . com ;\njennifer . devers @ columbia . ppdi . com\n; dtolearyl 3 @ hotmail . com ;\nfbcampbell @ hotmail . com ;\nmorganj @ email . chop . edu ; njsnoop @ aol . com\n;\nglamesta @ hrads . com ; june 30 _ 73 @ hotmail . com\n; redsgilmore @ yahoo . com\n;\ntgcross @ delinvest . com ; eesmith @ delinvest . com\n; saegerr @ iconus . com\n;\nkathnkirk @ aol . com ; glcarbo @ delinvest . com\n; gerdman @ delinvest . com\n;\nktrifiletti @ philamuseum . org ;\ncbuynak @ mail . phila . kl 2 . pa . us ;\nhmurray @ ingfunds . com ; katemiddle @ aol . com\n; kathyrnl @ hotmail . com\n;\nkherncane @ acsysinc . com ;\nmarybeth . oleary @ bms . com ;\nsandra _ luckowski @ strategicweather . com\n; segeorge @ delinvest . com\n;\ntimothy _ oleary @ gmaccm . com\nsubject : fwd : fw : gap gift certificates\n> from : njsnoop @ aol . com\n> to : jaca 527 @ aol . com , bwestrich @ hotmail . com\n, prc 246 @ aol . com ,\n> d _ lenchak @ hotmail . com , tanzo 44 @ aol . com\n, dscoppin @ aol . com ,\n> ced 423 @ aol . com , potseo 07 @ aol . com\n, glamesta @ hrads . com ,\n> gabbol 999 @ aol . com , ecushorty 26 @ yahoo . com\n, ff 74 @ aol . com ,\n> ajax 991107 @ aol . com , jen . brown @ huntoon . com\n, jgaughran @ syscom - inc . com\n,\n> katemiddle @ aol . com , kdavis @ coadgroup . com\n, kristen 327 @ hotmail . com\n,\n> leahd 75 @ aol . com , jgrehl @ advanstar . com\n, kattr 51 @ aol . com ,\n> sandra _ luckowski @ strategicweather . com\n> subject : fwd : fw : gap gift certificates\n> date : tue , 22 feb 2000 23 : 16 : 25 est\n>\n>\nget your private , free email at http : / / www . hotmail . com\n_ _ _ _ _\nmessage - id : >\nfrom : dscoppin @ aol . com\nto : dadams @ foodtv . com , daveadaml @ aol . com\n, ajax 991107 @ aol . com\n,\nbemor @ worldnet . att . net ,\nrabogal 23 @ aol . com , yadil 31 @ hotmail . com\n,\ndcoppin @ erac . com , njsnoop @ aol . com\n, kevin _ grimstead @ peoplemag . com\n,\nleshell @ prodigy . net ,\nkeshawn . a . mccleod @ tst . tracor . com ,\nshammara @ hotmail . com , luvlee 9538 @ aol . com\n, kmccleod @ yahoo . com\n,\nram 312 @ gateway . net ,\nraywilliamsl 0 @ hotmail . com ,\ncquerol 714 @ aol . com ,\nmrascoe @ midd . sps . kl 2 . va . us ,\nkarwood @ hotmail . com , salisbo @ alpha . ecsu . edu\n,\ntuneloc @ hotmail . com , mbso 8 @ aol . com\n, aonee @ zdnetmail . com ,\nrsol 732412 @ aol . com , weslypipesl @ excite . com\n, twill @ aol . com ,\nahhaprol @ aol . com\nsubject : fwd : fw : gap gift certificates\ndate : tue , 22 feb 2000 13 : 44 : 16 - 0500\nmime - version : 1 . 0\nx - mailer : internet mail service ( 5 . 5 . 2448 . 0 )\ncontent - type : message / rfc 822\nmessage - id :\nfrom : \" adams , david \" >\nto : \" ' tusgar _ hefa @ newyorklife . com ' \"\n> ,\n\" ' anna _ wong @ newyorklife . com ' \" > ,\n\" ' tara _ felton @ am . newyorklife . com '\n\" > ,\n\" ' chantale _ olivier @ am . newyorklife . com '\n\"\n> , \"\n' andrews _ tara @ jpmorgan . com ' \"\n> , \"\n' pconnor @ bridge . com ' \" > ,\n\" romano , carmine \" > , \"\n' dscoppin @ aol . com ' \"\n>\nsubject : fw : gap gift certificates\ndate : tue , 22 feb 2000 10 : 22 : 15 - 0500\nmime - version : 1 . 0\nx - mailer : internet mail service ( 5 . 5 . 2448 . 0 )\ncontent - type : text / plain\n- - - - - original message - - - - -\nfrom : infante , teresa\nsent : friday , february 18 , 2000 5 : 20 pm\nto : adams , david ; beckles , michelle ; cindy cammon ; diaz , josh ; jones ,\ntanya ; moseley , joe ; daniel , stephanie ; clarke - porter , althea ;\nsepulveda , maria\nsubject : fw : gap gift certificates\n- - - - - original message - - - - -\nfrom : angel l . vale jr . [ mailto : toro 94 @ excite . com\n]\nsent : thursday , february 17 , 2000 1 : 27 pm\nto : anthony aldano ; jimenez 57 @ aol . com ;\naleon @ related . com ;\nwolivare @ stern . nyu . edu ; jqd 3093 @ is 3 . nyu . edu\n; rh 7 @ stern . nyu . edu\n;\nwo 200 @ is 5 . nyu . edu ; aherrera @ stevens - tech . edu\n; aaldano @ hotmail . com\n;\ngardell - b @ rocketmail . com ;\nrobert . cardona @ bcjsystems . com ;\ndrjc 8297 @ aol . com ; angel . vale @ bigfoot . com\n; oscarvelez @ aol . com\n;\nlavillalon @ launidadlatina . org ;\naachecar @ usa . net ; lul - step @ egroups . com\ncc : mgbabyface @ aol . com ; safire 906 @ aol . com\n; lpcarden @ phjw . com ;\nkasper _ 8 @ yahoo . com ; rubyl 32 @ excite . com\nsubject : gap gift certificates\nsubject : gap certificates\nhey guys , i finally found one that is true ! i went down to the\ngap myself and redeemed my gift certificates already ! ! ! i sent\nenough e - mails to get over two hundred dollars worth of clothes from\nthe gap ! you know , with all the crap sent over the mail , it is good to\nknow that something finally rings true in this environment of virtual\ndeception . send it to everyone you know , and you too can have a whole new\nwardrobe , courtesy of the gap ! isn ' t it grand ?\nhi ! my name is janelle mccan , founder of the gap .\nyou have probably heard about the e - mail from abercrombie and fitch offering\ntwenty five dollar gift certificates to every five people you sent that\nletter to . my question is : did it work ? most of you who tried it will\nprobably say no .\nbut this letter is not prank like others you have experienced . i am offering\nthirty five dollar gift certificates to every seven people you send this to .\nwhen you have finished sending this letter to as many people as you wish , a\nscreen will come up . it will tell you how much you have earned in gap gift\ncertificates . print that screen out and bring it to your local gap store .\nthe sales clerk will give you your certificates and you can shop baby ! this\nis a sales promotion to get our name out to young people around the world .\nwe\nbelieve this project can be a success , but only with your help .\nthank you for your support !\nsincerely ,\njanelle mccan\nfounder of gap\nget 100 % free internet access powered by excite\nvisit http : / / freeworld . excite . com\n- attl . htm",
         "0"
        ]
       ],
       "shape": {
        "columns": 4,
        "rows": 5171
       }
      },
      "text/html": [
       "<div>\n",
       "<style scoped>\n",
       "    .dataframe tbody tr th:only-of-type {\n",
       "        vertical-align: middle;\n",
       "    }\n",
       "\n",
       "    .dataframe tbody tr th {\n",
       "        vertical-align: top;\n",
       "    }\n",
       "\n",
       "    .dataframe thead th {\n",
       "        text-align: right;\n",
       "    }\n",
       "</style>\n",
       "<table border=\"1\" class=\"dataframe\">\n",
       "  <thead>\n",
       "    <tr style=\"text-align: right;\">\n",
       "      <th></th>\n",
       "      <th>Unnamed: 0</th>\n",
       "      <th>Label</th>\n",
       "      <th>Message</th>\n",
       "      <th>label_num</th>\n",
       "    </tr>\n",
       "  </thead>\n",
       "  <tbody>\n",
       "    <tr>\n",
       "      <th>0</th>\n",
       "      <td>605</td>\n",
       "      <td>ham</td>\n",
       "      <td>Subject: enron methanol ; meter # : 988291\\nth...</td>\n",
       "      <td>0</td>\n",
       "    </tr>\n",
       "    <tr>\n",
       "      <th>1</th>\n",
       "      <td>2349</td>\n",
       "      <td>ham</td>\n",
       "      <td>Subject: hpl nom for january 9 , 2001\\n( see a...</td>\n",
       "      <td>0</td>\n",
       "    </tr>\n",
       "    <tr>\n",
       "      <th>2</th>\n",
       "      <td>3624</td>\n",
       "      <td>ham</td>\n",
       "      <td>Subject: neon retreat\\nho ho ho , we ' re arou...</td>\n",
       "      <td>0</td>\n",
       "    </tr>\n",
       "    <tr>\n",
       "      <th>3</th>\n",
       "      <td>4685</td>\n",
       "      <td>spam</td>\n",
       "      <td>Subject: photoshop , windows , office . cheap ...</td>\n",
       "      <td>1</td>\n",
       "    </tr>\n",
       "    <tr>\n",
       "      <th>4</th>\n",
       "      <td>2030</td>\n",
       "      <td>ham</td>\n",
       "      <td>Subject: re : indian springs\\nthis deal is to ...</td>\n",
       "      <td>0</td>\n",
       "    </tr>\n",
       "    <tr>\n",
       "      <th>...</th>\n",
       "      <td>...</td>\n",
       "      <td>...</td>\n",
       "      <td>...</td>\n",
       "      <td>...</td>\n",
       "    </tr>\n",
       "    <tr>\n",
       "      <th>5166</th>\n",
       "      <td>1518</td>\n",
       "      <td>ham</td>\n",
       "      <td>Subject: put the 10 on the ft\\nthe transport v...</td>\n",
       "      <td>0</td>\n",
       "    </tr>\n",
       "    <tr>\n",
       "      <th>5167</th>\n",
       "      <td>404</td>\n",
       "      <td>ham</td>\n",
       "      <td>Subject: 3 / 4 / 2000 and following noms\\nhpl ...</td>\n",
       "      <td>0</td>\n",
       "    </tr>\n",
       "    <tr>\n",
       "      <th>5168</th>\n",
       "      <td>2933</td>\n",
       "      <td>ham</td>\n",
       "      <td>Subject: calpine daily gas nomination\\n&gt;\\n&gt;\\nj...</td>\n",
       "      <td>0</td>\n",
       "    </tr>\n",
       "    <tr>\n",
       "      <th>5169</th>\n",
       "      <td>1409</td>\n",
       "      <td>ham</td>\n",
       "      <td>Subject: industrial worksheets for august 2000...</td>\n",
       "      <td>0</td>\n",
       "    </tr>\n",
       "    <tr>\n",
       "      <th>5170</th>\n",
       "      <td>4807</td>\n",
       "      <td>spam</td>\n",
       "      <td>Subject: important online banking alert\\ndear ...</td>\n",
       "      <td>1</td>\n",
       "    </tr>\n",
       "  </tbody>\n",
       "</table>\n",
       "<p>5171 rows × 4 columns</p>\n",
       "</div>"
      ],
      "text/plain": [
       "      Unnamed: 0 Label                                            Message  \\\n",
       "0            605   ham  Subject: enron methanol ; meter # : 988291\\nth...   \n",
       "1           2349   ham  Subject: hpl nom for january 9 , 2001\\n( see a...   \n",
       "2           3624   ham  Subject: neon retreat\\nho ho ho , we ' re arou...   \n",
       "3           4685  spam  Subject: photoshop , windows , office . cheap ...   \n",
       "4           2030   ham  Subject: re : indian springs\\nthis deal is to ...   \n",
       "...          ...   ...                                                ...   \n",
       "5166        1518   ham  Subject: put the 10 on the ft\\nthe transport v...   \n",
       "5167         404   ham  Subject: 3 / 4 / 2000 and following noms\\nhpl ...   \n",
       "5168        2933   ham  Subject: calpine daily gas nomination\\n>\\n>\\nj...   \n",
       "5169        1409   ham  Subject: industrial worksheets for august 2000...   \n",
       "5170        4807  spam  Subject: important online banking alert\\ndear ...   \n",
       "\n",
       "      label_num  \n",
       "0             0  \n",
       "1             0  \n",
       "2             0  \n",
       "3             1  \n",
       "4             0  \n",
       "...         ...  \n",
       "5166          0  \n",
       "5167          0  \n",
       "5168          0  \n",
       "5169          0  \n",
       "5170          1  \n",
       "\n",
       "[5171 rows x 4 columns]"
      ]
     },
     "execution_count": 5,
     "metadata": {},
     "output_type": "execute_result"
    }
   ],
   "source": [
    "email_dataset"
   ]
  },
  {
   "cell_type": "code",
   "execution_count": 6,
   "metadata": {},
   "outputs": [
    {
     "data": {
      "application/vnd.microsoft.datawrangler.viewer.v0+json": {
       "columns": [
        {
         "name": "index",
         "rawType": "int64",
         "type": "integer"
        },
        {
         "name": "Unnamed: 0",
         "rawType": "int64",
         "type": "integer"
        },
        {
         "name": "Label",
         "rawType": "object",
         "type": "string"
        },
        {
         "name": "Message",
         "rawType": "object",
         "type": "string"
        },
        {
         "name": "label_num",
         "rawType": "int64",
         "type": "integer"
        }
       ],
       "ref": "06cf3114-c619-4c1b-b376-49812586f4e1",
       "rows": [
        [
         "0",
         "605",
         "ham",
         "Subject: enron methanol ; meter # : 988291\nthis is a follow up to the note i gave you on monday , 4 / 3 / 00 { preliminary\nflow data provided by daren } .\nplease override pop ' s daily volume { presently zero } to reflect daily\nactivity you can obtain from gas control .\nthis change is needed asap for economics purposes .",
         "0"
        ],
        [
         "1",
         "2349",
         "ham",
         "Subject: hpl nom for january 9 , 2001\n( see attached file : hplnol 09 . xls )\n- hplnol 09 . xls",
         "0"
        ],
        [
         "2",
         "3624",
         "ham",
         "Subject: neon retreat\nho ho ho , we ' re around to that most wonderful time of the year - - - neon leaders retreat time !\ni know that this time of year is extremely hectic , and that it ' s tough to think about anything past the holidays , but life does go on past the week of december 25 through january 1 , and that ' s what i ' d like you to think about for a minute .\non the calender that i handed out at the beginning of the fall semester , the retreat was scheduled for the weekend of january 5 - 6 . but because of a youth ministers conference that brad and dustin are connected with that week , we ' re going to change the date to the following weekend , january 12 - 13 . now comes the part you need to think about .\ni think we all agree that it ' s important for us to get together and have some time to recharge our batteries before we get to far into the spring semester , but it can be a lot of trouble and difficult for us to get away without kids , etc . so , brad came up with a potential alternative for how we can get together on that weekend , and then you can let me know which you prefer .\nthe first option would be to have a retreat similar to what we ' ve done the past several years . this year we could go to the heartland country inn ( www . . com ) outside of brenham . it ' s a nice place , where we ' d have a 13 - bedroom and a 5 - bedroom house side by side . it ' s in the country , real relaxing , but also close to brenham and only about one hour and 15 minutes from here . we can golf , shop in the antique and craft stores in brenham , eat dinner together at the ranch , and spend time with each other . we ' d meet on saturday , and then return on sunday morning , just like what we ' ve done in the past .\nthe second option would be to stay here in houston , have dinner together at a nice restaurant , and then have dessert and a time for visiting and recharging at one of our homes on that saturday evening . this might be easier , but the trade off would be that we wouldn ' t have as much time together . i ' ll let you decide .\nemail me back with what would be your preference , and of course if you ' re available on that weekend . the democratic process will prevail - - majority vote will rule ! let me hear from you as soon as possible , preferably by the end of the weekend . and if the vote doesn ' t go your way , no complaining allowed ( like i tend to do ! )\nhave a great weekend , great golf , great fishing , great shopping , or whatever makes you happy !\nbobby",
         "0"
        ],
        [
         "3",
         "4685",
         "spam",
         "Subject: photoshop , windows , office . cheap . main trending\nabasements darer prudently fortuitous undergone\nlighthearted charm orinoco taster\nrailroad affluent pornographic cuvier\nirvin parkhouse blameworthy chlorophyll\nrobed diagrammatic fogarty clears bayda\ninconveniencing managing represented smartness hashish\nacademies shareholders unload badness\ndanielson pure caffein\nspaniard chargeable levin\n",
         "1"
        ],
        [
         "4",
         "2030",
         "ham",
         "Subject: re : indian springs\nthis deal is to book the teco pvr revenue . it is my understanding that teco\njust sends us a check , i haven ' t received an answer as to whether there is a\npredermined price associated with this deal or if teco just lets us know what\nwe are giving . i can continue to chase this deal down if you need .",
         "0"
        ]
       ],
       "shape": {
        "columns": 4,
        "rows": 5
       }
      },
      "text/html": [
       "<div>\n",
       "<style scoped>\n",
       "    .dataframe tbody tr th:only-of-type {\n",
       "        vertical-align: middle;\n",
       "    }\n",
       "\n",
       "    .dataframe tbody tr th {\n",
       "        vertical-align: top;\n",
       "    }\n",
       "\n",
       "    .dataframe thead th {\n",
       "        text-align: right;\n",
       "    }\n",
       "</style>\n",
       "<table border=\"1\" class=\"dataframe\">\n",
       "  <thead>\n",
       "    <tr style=\"text-align: right;\">\n",
       "      <th></th>\n",
       "      <th>Unnamed: 0</th>\n",
       "      <th>Label</th>\n",
       "      <th>Message</th>\n",
       "      <th>label_num</th>\n",
       "    </tr>\n",
       "  </thead>\n",
       "  <tbody>\n",
       "    <tr>\n",
       "      <th>0</th>\n",
       "      <td>605</td>\n",
       "      <td>ham</td>\n",
       "      <td>Subject: enron methanol ; meter # : 988291\\nth...</td>\n",
       "      <td>0</td>\n",
       "    </tr>\n",
       "    <tr>\n",
       "      <th>1</th>\n",
       "      <td>2349</td>\n",
       "      <td>ham</td>\n",
       "      <td>Subject: hpl nom for january 9 , 2001\\n( see a...</td>\n",
       "      <td>0</td>\n",
       "    </tr>\n",
       "    <tr>\n",
       "      <th>2</th>\n",
       "      <td>3624</td>\n",
       "      <td>ham</td>\n",
       "      <td>Subject: neon retreat\\nho ho ho , we ' re arou...</td>\n",
       "      <td>0</td>\n",
       "    </tr>\n",
       "    <tr>\n",
       "      <th>3</th>\n",
       "      <td>4685</td>\n",
       "      <td>spam</td>\n",
       "      <td>Subject: photoshop , windows , office . cheap ...</td>\n",
       "      <td>1</td>\n",
       "    </tr>\n",
       "    <tr>\n",
       "      <th>4</th>\n",
       "      <td>2030</td>\n",
       "      <td>ham</td>\n",
       "      <td>Subject: re : indian springs\\nthis deal is to ...</td>\n",
       "      <td>0</td>\n",
       "    </tr>\n",
       "  </tbody>\n",
       "</table>\n",
       "</div>"
      ],
      "text/plain": [
       "   Unnamed: 0 Label                                            Message  \\\n",
       "0         605   ham  Subject: enron methanol ; meter # : 988291\\nth...   \n",
       "1        2349   ham  Subject: hpl nom for january 9 , 2001\\n( see a...   \n",
       "2        3624   ham  Subject: neon retreat\\nho ho ho , we ' re arou...   \n",
       "3        4685  spam  Subject: photoshop , windows , office . cheap ...   \n",
       "4        2030   ham  Subject: re : indian springs\\nthis deal is to ...   \n",
       "\n",
       "   label_num  \n",
       "0          0  \n",
       "1          0  \n",
       "2          0  \n",
       "3          1  \n",
       "4          0  "
      ]
     },
     "execution_count": 6,
     "metadata": {},
     "output_type": "execute_result"
    }
   ],
   "source": [
    "email_dataset = email_dataset.reset_index(drop=True)\n",
    "email_dataset.head()"
   ]
  },
  {
   "cell_type": "code",
   "execution_count": 7,
   "metadata": {
    "_cell_guid": "e8604809-62b9-47bd-84fa-92063d8ae5b3",
    "_uuid": "3a9038c1ea6026f8ae89cf052aa71c89bcb940dd",
    "tags": []
   },
   "outputs": [
    {
     "data": {
      "application/vnd.microsoft.datawrangler.viewer.v0+json": {
       "columns": [
        {
         "name": "index",
         "rawType": "int64",
         "type": "integer"
        },
        {
         "name": "message",
         "rawType": "object",
         "type": "string"
        },
        {
         "name": "class",
         "rawType": "object",
         "type": "string"
        }
       ],
       "ref": "ec70b5d5-6f75-4aca-9d93-ae470dca4df2",
       "rows": [
        [
         "0",
         "Go until jurong point, crazy.. Available only in bugis n great world la e buffet... Cine there got amore wat...",
         "ham"
        ],
        [
         "1",
         "Ok lar... Joking wif u oni...",
         "ham"
        ],
        [
         "2",
         "Free entry in 2 a wkly comp to win FA Cup final tkts 21st May 2005. Text FA to 87121 to receive entry question(std txt rate)T&C's apply 08452810075over18's",
         "spam"
        ],
        [
         "3",
         "U dun say so early hor... U c already then say...",
         "ham"
        ],
        [
         "4",
         "Nah I don't think he goes to usf, he lives around here though",
         "ham"
        ]
       ],
       "shape": {
        "columns": 2,
        "rows": 5
       }
      },
      "text/html": [
       "<div>\n",
       "<style scoped>\n",
       "    .dataframe tbody tr th:only-of-type {\n",
       "        vertical-align: middle;\n",
       "    }\n",
       "\n",
       "    .dataframe tbody tr th {\n",
       "        vertical-align: top;\n",
       "    }\n",
       "\n",
       "    .dataframe thead th {\n",
       "        text-align: right;\n",
       "    }\n",
       "</style>\n",
       "<table border=\"1\" class=\"dataframe\">\n",
       "  <thead>\n",
       "    <tr style=\"text-align: right;\">\n",
       "      <th></th>\n",
       "      <th>message</th>\n",
       "      <th>class</th>\n",
       "    </tr>\n",
       "  </thead>\n",
       "  <tbody>\n",
       "    <tr>\n",
       "      <th>0</th>\n",
       "      <td>Go until jurong point, crazy.. Available only ...</td>\n",
       "      <td>ham</td>\n",
       "    </tr>\n",
       "    <tr>\n",
       "      <th>1</th>\n",
       "      <td>Ok lar... Joking wif u oni...</td>\n",
       "      <td>ham</td>\n",
       "    </tr>\n",
       "    <tr>\n",
       "      <th>2</th>\n",
       "      <td>Free entry in 2 a wkly comp to win FA Cup fina...</td>\n",
       "      <td>spam</td>\n",
       "    </tr>\n",
       "    <tr>\n",
       "      <th>3</th>\n",
       "      <td>U dun say so early hor... U c already then say...</td>\n",
       "      <td>ham</td>\n",
       "    </tr>\n",
       "    <tr>\n",
       "      <th>4</th>\n",
       "      <td>Nah I don't think he goes to usf, he lives aro...</td>\n",
       "      <td>ham</td>\n",
       "    </tr>\n",
       "  </tbody>\n",
       "</table>\n",
       "</div>"
      ],
      "text/plain": [
       "                                             message class\n",
       "0  Go until jurong point, crazy.. Available only ...   ham\n",
       "1                      Ok lar... Joking wif u oni...   ham\n",
       "2  Free entry in 2 a wkly comp to win FA Cup fina...  spam\n",
       "3  U dun say so early hor... U c already then say...   ham\n",
       "4  Nah I don't think he goes to usf, he lives aro...   ham"
      ]
     },
     "execution_count": 7,
     "metadata": {},
     "output_type": "execute_result"
    }
   ],
   "source": [
    "#let's read the sms data\n",
    "sms_data = pd.read_csv('https://raw.githubusercontent.com/bigmlcom/python/master/data/spam.csv', sep = '\\t')\n",
    "sms_data.columns = ['class','message']\n",
    "sms_data = sms_data[['message', 'class']]\n",
    "sms_data.head()"
   ]
  },
  {
   "cell_type": "markdown",
   "metadata": {
    "tags": []
   },
   "source": [
    "## Let's merge them together"
   ]
  },
  {
   "cell_type": "code",
   "execution_count": 8,
   "metadata": {},
   "outputs": [
    {
     "name": "stdout",
     "output_type": "stream",
     "text": [
      "first five data are:\n",
      " =>=>=>=>=>=>=>=>=>=>\n",
      "   Unnamed: 0 Label                                            Message  \\\n",
      "0       605.0   ham  Subject: enron methanol ; meter # : 988291\\nth...   \n",
      "1      2349.0   ham  Subject: hpl nom for january 9 , 2001\\n( see a...   \n",
      "2      3624.0   ham  Subject: neon retreat\\nho ho ho , we ' re arou...   \n",
      "3      4685.0  spam  Subject: photoshop , windows , office . cheap ...   \n",
      "4      2030.0   ham  Subject: re : indian springs\\nthis deal is to ...   \n",
      "\n",
      "   label_num message class  \n",
      "0        0.0     NaN   NaN  \n",
      "1        0.0     NaN   NaN  \n",
      "2        0.0     NaN   NaN  \n",
      "3        1.0     NaN   NaN  \n",
      "4        0.0     NaN   NaN  \n",
      "last five data are:\n",
      " =>=>=>=>=>=>=>=>=>=>\n",
      "     Unnamed: 0 Label Message  label_num  \\\n",
      "651         NaN   NaN     NaN        NaN   \n",
      "652         NaN   NaN     NaN        NaN   \n",
      "653         NaN   NaN     NaN        NaN   \n",
      "654         NaN   NaN     NaN        NaN   \n",
      "655         NaN   NaN     NaN        NaN   \n",
      "\n",
      "                                               message class  \n",
      "651                  Anything lor. Juz both of us lor.   ham  \n",
      "652  Get me out of this dump heap. My mom decided t...   ham  \n",
      "653  Ok lor... Sony ericsson salesman... I ask shuh...   ham  \n",
      "654                                Ard 6 like dat lor.   ham  \n",
      "655  Why don't you wait 'til at least wednesday to ...   ham  \n"
     ]
    }
   ],
   "source": [
    "data = pd.concat([email_dataset, sms_data])\n",
    "print(\"first five data are:\\n\",\"=>\"*10)\n",
    "print(data.head(5))\n",
    "\n",
    "print(\"last five data are:\\n\",\"=>\"*10)\n",
    "print(data.tail(5))"
   ]
  },
  {
   "cell_type": "markdown",
   "metadata": {},
   "source": [
    "## Shape of the data"
   ]
  },
  {
   "cell_type": "code",
   "execution_count": 9,
   "metadata": {},
   "outputs": [
    {
     "data": {
      "text/plain": [
       "(5827, 6)"
      ]
     },
     "execution_count": 9,
     "metadata": {},
     "output_type": "execute_result"
    }
   ],
   "source": [
    "data.shape"
   ]
  },
  {
   "cell_type": "markdown",
   "metadata": {},
   "source": [
    "## Check null values"
   ]
  },
  {
   "cell_type": "code",
   "execution_count": 10,
   "metadata": {},
   "outputs": [
    {
     "data": {
      "application/vnd.microsoft.datawrangler.viewer.v0+json": {
       "columns": [
        {
         "name": "index",
         "rawType": "object",
         "type": "string"
        },
        {
         "name": "0",
         "rawType": "int64",
         "type": "integer"
        }
       ],
       "ref": "498fbcb7-6038-48ce-91fe-e685191eca4c",
       "rows": [
        [
         "Unnamed: 0",
         "656"
        ],
        [
         "Label",
         "656"
        ],
        [
         "Message",
         "656"
        ],
        [
         "label_num",
         "656"
        ],
        [
         "message",
         "5171"
        ],
        [
         "class",
         "5171"
        ]
       ],
       "shape": {
        "columns": 1,
        "rows": 6
       }
      },
      "text/plain": [
       "Unnamed: 0     656\n",
       "Label          656\n",
       "Message        656\n",
       "label_num      656\n",
       "message       5171\n",
       "class         5171\n",
       "dtype: int64"
      ]
     },
     "execution_count": 10,
     "metadata": {},
     "output_type": "execute_result"
    }
   ],
   "source": [
    "data.isna().sum()"
   ]
  },
  {
   "cell_type": "markdown",
   "metadata": {
    "tags": []
   },
   "source": [
    "### We can see that there is no null values in this dataset.\n",
    "\n"
   ]
  },
  {
   "cell_type": "markdown",
   "metadata": {},
   "source": [
    "## Let's check for duplicate values"
   ]
  },
  {
   "cell_type": "code",
   "execution_count": 11,
   "metadata": {},
   "outputs": [
    {
     "name": "stdout",
     "output_type": "stream",
     "text": [
      "we have 9 duplicate values found in the dataset. \n",
      "Below are the duplicate data. \n",
      " ========================================\n"
     ]
    },
    {
     "data": {
      "application/vnd.microsoft.datawrangler.viewer.v0+json": {
       "columns": [
        {
         "name": "index",
         "rawType": "int64",
         "type": "integer"
        },
        {
         "name": "Unnamed: 0",
         "rawType": "float64",
         "type": "float"
        },
        {
         "name": "Label",
         "rawType": "object",
         "type": "string"
        },
        {
         "name": "Message",
         "rawType": "object",
         "type": "string"
        },
        {
         "name": "label_num",
         "rawType": "float64",
         "type": "float"
        },
        {
         "name": "message",
         "rawType": "object",
         "type": "string"
        },
        {
         "name": "class",
         "rawType": "object",
         "type": "string"
        }
       ],
       "ref": "df529baa-8942-417a-a9bc-9560974d5a83",
       "rows": [
        [
         "340",
         null,
         null,
         null,
         null,
         "1) Go to write msg 2) Put on Dictionary mode 3)Cover the screen with hand, 4)Press  &lt;#&gt; . 5)Gently remove Ur hand.. Its interesting..:)",
         "ham"
        ],
        [
         "400",
         null,
         null,
         null,
         null,
         "Sorry, I'll call later",
         "ham"
        ],
        [
         "466",
         null,
         null,
         null,
         null,
         "I cant pick the phone right now. Pls send a message",
         "ham"
        ],
        [
         "477",
         null,
         null,
         null,
         null,
         "I'm at work. Please call",
         "ham"
        ],
        [
         "514",
         null,
         null,
         null,
         null,
         "Sorry, I'll call later",
         "ham"
        ],
        [
         "549",
         null,
         null,
         null,
         null,
         "Sorry, I'll call later",
         "ham"
        ],
        [
         "560",
         null,
         null,
         null,
         null,
         "Ok lor.",
         "ham"
        ],
        [
         "581",
         null,
         null,
         null,
         null,
         "K. I will sent it again",
         "ham"
        ],
        [
         "649",
         null,
         null,
         null,
         null,
         "Sorry, I'll call later",
         "ham"
        ]
       ],
       "shape": {
        "columns": 6,
        "rows": 9
       }
      },
      "text/html": [
       "<div>\n",
       "<style scoped>\n",
       "    .dataframe tbody tr th:only-of-type {\n",
       "        vertical-align: middle;\n",
       "    }\n",
       "\n",
       "    .dataframe tbody tr th {\n",
       "        vertical-align: top;\n",
       "    }\n",
       "\n",
       "    .dataframe thead th {\n",
       "        text-align: right;\n",
       "    }\n",
       "</style>\n",
       "<table border=\"1\" class=\"dataframe\">\n",
       "  <thead>\n",
       "    <tr style=\"text-align: right;\">\n",
       "      <th></th>\n",
       "      <th>Unnamed: 0</th>\n",
       "      <th>Label</th>\n",
       "      <th>Message</th>\n",
       "      <th>label_num</th>\n",
       "      <th>message</th>\n",
       "      <th>class</th>\n",
       "    </tr>\n",
       "  </thead>\n",
       "  <tbody>\n",
       "    <tr>\n",
       "      <th>340</th>\n",
       "      <td>NaN</td>\n",
       "      <td>NaN</td>\n",
       "      <td>NaN</td>\n",
       "      <td>NaN</td>\n",
       "      <td>1) Go to write msg 2) Put on Dictionary mode 3...</td>\n",
       "      <td>ham</td>\n",
       "    </tr>\n",
       "    <tr>\n",
       "      <th>400</th>\n",
       "      <td>NaN</td>\n",
       "      <td>NaN</td>\n",
       "      <td>NaN</td>\n",
       "      <td>NaN</td>\n",
       "      <td>Sorry, I'll call later</td>\n",
       "      <td>ham</td>\n",
       "    </tr>\n",
       "    <tr>\n",
       "      <th>466</th>\n",
       "      <td>NaN</td>\n",
       "      <td>NaN</td>\n",
       "      <td>NaN</td>\n",
       "      <td>NaN</td>\n",
       "      <td>I cant pick the phone right now. Pls send a me...</td>\n",
       "      <td>ham</td>\n",
       "    </tr>\n",
       "    <tr>\n",
       "      <th>477</th>\n",
       "      <td>NaN</td>\n",
       "      <td>NaN</td>\n",
       "      <td>NaN</td>\n",
       "      <td>NaN</td>\n",
       "      <td>I'm at work. Please call</td>\n",
       "      <td>ham</td>\n",
       "    </tr>\n",
       "    <tr>\n",
       "      <th>514</th>\n",
       "      <td>NaN</td>\n",
       "      <td>NaN</td>\n",
       "      <td>NaN</td>\n",
       "      <td>NaN</td>\n",
       "      <td>Sorry, I'll call later</td>\n",
       "      <td>ham</td>\n",
       "    </tr>\n",
       "    <tr>\n",
       "      <th>549</th>\n",
       "      <td>NaN</td>\n",
       "      <td>NaN</td>\n",
       "      <td>NaN</td>\n",
       "      <td>NaN</td>\n",
       "      <td>Sorry, I'll call later</td>\n",
       "      <td>ham</td>\n",
       "    </tr>\n",
       "    <tr>\n",
       "      <th>560</th>\n",
       "      <td>NaN</td>\n",
       "      <td>NaN</td>\n",
       "      <td>NaN</td>\n",
       "      <td>NaN</td>\n",
       "      <td>Ok lor.</td>\n",
       "      <td>ham</td>\n",
       "    </tr>\n",
       "    <tr>\n",
       "      <th>581</th>\n",
       "      <td>NaN</td>\n",
       "      <td>NaN</td>\n",
       "      <td>NaN</td>\n",
       "      <td>NaN</td>\n",
       "      <td>K. I will sent it again</td>\n",
       "      <td>ham</td>\n",
       "    </tr>\n",
       "    <tr>\n",
       "      <th>649</th>\n",
       "      <td>NaN</td>\n",
       "      <td>NaN</td>\n",
       "      <td>NaN</td>\n",
       "      <td>NaN</td>\n",
       "      <td>Sorry, I'll call later</td>\n",
       "      <td>ham</td>\n",
       "    </tr>\n",
       "  </tbody>\n",
       "</table>\n",
       "</div>"
      ],
      "text/plain": [
       "     Unnamed: 0 Label Message  label_num  \\\n",
       "340         NaN   NaN     NaN        NaN   \n",
       "400         NaN   NaN     NaN        NaN   \n",
       "466         NaN   NaN     NaN        NaN   \n",
       "477         NaN   NaN     NaN        NaN   \n",
       "514         NaN   NaN     NaN        NaN   \n",
       "549         NaN   NaN     NaN        NaN   \n",
       "560         NaN   NaN     NaN        NaN   \n",
       "581         NaN   NaN     NaN        NaN   \n",
       "649         NaN   NaN     NaN        NaN   \n",
       "\n",
       "                                               message class  \n",
       "340  1) Go to write msg 2) Put on Dictionary mode 3...   ham  \n",
       "400                             Sorry, I'll call later   ham  \n",
       "466  I cant pick the phone right now. Pls send a me...   ham  \n",
       "477                           I'm at work. Please call   ham  \n",
       "514                             Sorry, I'll call later   ham  \n",
       "549                             Sorry, I'll call later   ham  \n",
       "560                                            Ok lor.   ham  \n",
       "581                            K. I will sent it again   ham  \n",
       "649                             Sorry, I'll call later   ham  "
      ]
     },
     "execution_count": 11,
     "metadata": {},
     "output_type": "execute_result"
    }
   ],
   "source": [
    "print(f\"we have {data.duplicated().sum()} duplicate values found in the dataset. \\nBelow are the duplicate data. \\n\", \"==\"*20)\n",
    "data[data.duplicated()]"
   ]
  },
  {
   "cell_type": "markdown",
   "metadata": {},
   "source": [
    "**As we can see there are some duplicate values. Let's remove keep the first ones.**"
   ]
  },
  {
   "cell_type": "code",
   "execution_count": 12,
   "metadata": {},
   "outputs": [
    {
     "data": {
      "text/plain": [
       "(5818, 6)"
      ]
     },
     "execution_count": 12,
     "metadata": {},
     "output_type": "execute_result"
    }
   ],
   "source": [
    "data = data.drop_duplicates(keep='first')\n",
    "data = data.reset_index(drop=True)\n",
    "data.shape"
   ]
  },
  {
   "cell_type": "markdown",
   "metadata": {},
   "source": [
    "**So we have removed the values which are found duplicated with some other values**\n",
    "\n",
    "We have now 3590 rows data."
   ]
  },
  {
   "cell_type": "code",
   "execution_count": 13,
   "metadata": {},
   "outputs": [],
   "source": [
    "#let's save the dataset\n",
    "data.to_csv(\"spamham.csv\", index=False)"
   ]
  },
  {
   "cell_type": "code",
   "execution_count": 14,
   "metadata": {},
   "outputs": [
    {
     "data": {
      "application/vnd.microsoft.datawrangler.viewer.v0+json": {
       "columns": [
        {
         "name": "index",
         "rawType": "object",
         "type": "string"
        },
        {
         "name": "0",
         "rawType": "int64",
         "type": "integer"
        }
       ],
       "ref": "d69ef3ad-58fa-44b2-8bb1-ff34bef67eb4",
       "rows": [
        [
         "Unnamed: 0",
         "647"
        ],
        [
         "Label",
         "647"
        ],
        [
         "Message",
         "647"
        ],
        [
         "label_num",
         "647"
        ],
        [
         "message",
         "5171"
        ],
        [
         "class",
         "5171"
        ]
       ],
       "shape": {
        "columns": 1,
        "rows": 6
       }
      },
      "text/plain": [
       "Unnamed: 0     647\n",
       "Label          647\n",
       "Message        647\n",
       "label_num      647\n",
       "message       5171\n",
       "class         5171\n",
       "dtype: int64"
      ]
     },
     "execution_count": 14,
     "metadata": {},
     "output_type": "execute_result"
    }
   ],
   "source": [
    "data.isnull().sum()"
   ]
  },
  {
   "cell_type": "code",
   "execution_count": 15,
   "metadata": {},
   "outputs": [
    {
     "data": {
      "text/plain": [
       "<bound method DataFrame.dropna of       Unnamed: 0 Label                                            Message  \\\n",
       "0          605.0   ham  Subject: enron methanol ; meter # : 988291\\nth...   \n",
       "1         2349.0   ham  Subject: hpl nom for january 9 , 2001\\n( see a...   \n",
       "2         3624.0   ham  Subject: neon retreat\\nho ho ho , we ' re arou...   \n",
       "3         4685.0  spam  Subject: photoshop , windows , office . cheap ...   \n",
       "4         2030.0   ham  Subject: re : indian springs\\nthis deal is to ...   \n",
       "...          ...   ...                                                ...   \n",
       "5813         NaN   NaN                                                NaN   \n",
       "5814         NaN   NaN                                                NaN   \n",
       "5815         NaN   NaN                                                NaN   \n",
       "5816         NaN   NaN                                                NaN   \n",
       "5817         NaN   NaN                                                NaN   \n",
       "\n",
       "      label_num                                            message class  \n",
       "0           0.0                                                NaN   NaN  \n",
       "1           0.0                                                NaN   NaN  \n",
       "2           0.0                                                NaN   NaN  \n",
       "3           1.0                                                NaN   NaN  \n",
       "4           0.0                                                NaN   NaN  \n",
       "...         ...                                                ...   ...  \n",
       "5813        NaN                  Anything lor. Juz both of us lor.   ham  \n",
       "5814        NaN  Get me out of this dump heap. My mom decided t...   ham  \n",
       "5815        NaN  Ok lor... Sony ericsson salesman... I ask shuh...   ham  \n",
       "5816        NaN                                Ard 6 like dat lor.   ham  \n",
       "5817        NaN  Why don't you wait 'til at least wednesday to ...   ham  \n",
       "\n",
       "[5818 rows x 6 columns]>"
      ]
     },
     "execution_count": 15,
     "metadata": {},
     "output_type": "execute_result"
    }
   ],
   "source": [
    "data.dropna"
   ]
  },
  {
   "cell_type": "code",
   "execution_count": 16,
   "metadata": {},
   "outputs": [
    {
     "data": {
      "text/plain": [
       "(5818, 6)"
      ]
     },
     "execution_count": 16,
     "metadata": {},
     "output_type": "execute_result"
    }
   ],
   "source": [
    "data.shape"
   ]
  },
  {
   "cell_type": "markdown",
   "metadata": {
    "_cell_guid": "2ed76eea-004a-42a0-a1c9-c45c092bbb4b",
    "_uuid": "d71ec916875461c07bdb1f9d53d9b0a7210de035",
    "tags": []
   },
   "source": [
    "## Distribution spam/non-spam plots"
   ]
  },
  {
   "cell_type": "code",
   "execution_count": 17,
   "metadata": {
    "_cell_guid": "74f9cf41-4793-4be5-a46e-bdb93067e973",
    "_uuid": "99a4b831313c23573b7972c65637d01dd497c6fe",
    "tags": []
   },
   "outputs": [
    {
     "data": {
      "image/png": "[encoded data removed]",
      "text/plain": [
       "<Figure size 640x480 with 1 Axes>"
      ]
     },
     "metadata": {},
     "output_type": "display_data"
    }
   ],
   "source": [
    "count_Class=pd.value_counts(data[\"class\"], sort= True)\n",
    "count_Class.plot(kind= 'bar', color= [\"blue\", \"orange\"])\n",
    "plt.title('Bar chart')\n",
    "plt.show()"
   ]
  },
  {
   "cell_type": "code",
   "execution_count": 18,
   "metadata": {
    "_cell_guid": "5596df63-7be7-4625-b952-c5508917a630",
    "_uuid": "f233eab105cb93e90ce37f9361616a5be6645751"
   },
   "outputs": [
    {
     "data": {
      "image/png": "[encoded data removed]",
      "text/plain": [
       "<Figure size 640x480 with 1 Axes>"
      ]
     },
     "metadata": {},
     "output_type": "display_data"
    }
   ],
   "source": [
    "count_Class.plot(kind = 'pie',  autopct='%1.0f%%')\n",
    "plt.title('Pie chart')\n",
    "plt.ylabel('')\n",
    "plt.show()"
   ]
  },
  {
   "cell_type": "markdown",
   "metadata": {
    "_cell_guid": "ff53e1a6-a37b-4a31-9b41-c959296156de",
    "_uuid": "9ec51be1879d2987eef26632bc411a3577b42ae8",
    "tags": []
   },
   "source": [
    "## Text Analytics"
   ]
  },
  {
   "cell_type": "markdown",
   "metadata": {
    "_cell_guid": "ba58d2e5-63a4-4443-ab05-7810decb5eb7",
    "_uuid": "b3c395e8534efc8a402df3b6ac1b699b48fa09f3"
   },
   "source": [
    "We want to find the frequencies of words in the spam and non-spam messages. The words of the messages will be model features.<p>\n",
    "We use the function Counter."
   ]
  },
  {
   "cell_type": "code",
   "execution_count": 19,
   "metadata": {
    "_cell_guid": "8c750858-87e9-498c-86f5-4df7310f9e63",
    "_uuid": "03677f8369b4bb3450ffe8a9cd3de9c0b01e681d",
    "tags": []
   },
   "outputs": [],
   "source": [
    "count1 = Counter(\" \".join(data[data['class']=='ham'][\"message\"]).split()).most_common(20)\n",
    "df1 = pd.DataFrame.from_dict(count1)\n",
    "df1 = df1.rename(columns={0: \"words in non-spam\", 1 : \"count\"})\n",
    "count2 = Counter(\" \".join(data[data['class']=='spam'][\"message\"]).split()).most_common(20)\n",
    "df2 = pd.DataFrame.from_dict(count2)\n",
    "df2 = df2.rename(columns={0: \"words in spam\", 1 : \"count_\"})"
   ]
  },
  {
   "cell_type": "code",
   "execution_count": 20,
   "metadata": {
    "_cell_guid": "b8850226-0043-4a37-9e65-a8409efe7026",
    "_uuid": "d18e09f35264ea374ffce57eae07c9335439a2ef",
    "tags": []
   },
   "outputs": [
    {
     "data": {
      "image/png": "[encoded data removed]",
      "text/plain": [
       "<Figure size 640x480 with 1 Axes>"
      ]
     },
     "metadata": {},
     "output_type": "display_data"
    }
   ],
   "source": [
    "df1.plot.bar(legend = False)\n",
    "y_pos = np.arange(len(df1[\"words in non-spam\"]))\n",
    "plt.xticks(y_pos, df1[\"words in non-spam\"])\n",
    "plt.title('More frequent words in non-spam messages')\n",
    "plt.xlabel('words')\n",
    "plt.ylabel('number')\n",
    "plt.show()"
   ]
  },
  {
   "cell_type": "code",
   "execution_count": 21,
   "metadata": {
    "_cell_guid": "9637faec-7114-4365-aceb-a2d74787a205",
    "_uuid": "bf9b59581db68038824724344fe937e65f5f8661"
   },
   "outputs": [
    {
     "data": {
      "image/png": "[encoded data removed]",
      "text/plain": [
       "<Figure size 640x480 with 1 Axes>"
      ]
     },
     "metadata": {},
     "output_type": "display_data"
    }
   ],
   "source": [
    "df2.plot.bar(legend = False, color = 'orange')\n",
    "y_pos = np.arange(len(df2[\"words in spam\"]))\n",
    "plt.xticks(y_pos, df2[\"words in spam\"])\n",
    "plt.title('More frequent words in spam messages')\n",
    "plt.xlabel('words')\n",
    "plt.ylabel('number')\n",
    "plt.show()"
   ]
  },
  {
   "cell_type": "markdown",
   "metadata": {
    "_cell_guid": "40db40e9-aeb2-487f-9ab7-d6debf26d611",
    "_uuid": "c971edae5a8be1bfd0719e777ba92322ad897abe"
   },
   "source": [
    "We can see that the majority of frequent words in both classes are stop words such as 'to', 'a', 'or' and so on. <p>\n",
    "With stop words we refer to the most common words in a lenguage, there is no simgle, universal list of stop words. <p>"
   ]
  },
  {
   "cell_type": "markdown",
   "metadata": {
    "_cell_guid": "6887a2a9-6c4c-42f1-92df-fdec4ae3f9f0",
    "_uuid": "47d3122a6fe0ed51dbe5775c7549695cce2a8470"
   },
   "source": [
    "## Feature engineering"
   ]
  },
  {
   "cell_type": "markdown",
   "metadata": {
    "_cell_guid": "238e6b23-de89-4334-80d9-1662dfc1a211",
    "_uuid": "93273550c383144e9ddec84b179475ea7d9cb85c"
   },
   "source": [
    "Text preprocessing, tokenizing and filtering of stopwords are included in a high level component that is able to build a dictionary of features and transform documents to feature vectors.<p>\n",
    "**We remove the stop words in order to improve the analytics**"
   ]
  },
  {
   "cell_type": "code",
   "execution_count": 22,
   "metadata": {},
   "outputs": [],
   "source": [
    "data.drop('Unnamed: 0',axis=1,inplace=True)\n",
    "data.drop('label_num',axis=1,inplace=True)\n",
    "data.drop('message',axis=1,inplace=True)\n",
    "data.drop('class',axis=1,inplace=True)\n"
   ]
  },
  {
   "cell_type": "code",
   "execution_count": 23,
   "metadata": {},
   "outputs": [
    {
     "data": {
      "application/vnd.microsoft.datawrangler.viewer.v0+json": {
       "columns": [
        {
         "name": "index",
         "rawType": "int64",
         "type": "integer"
        },
        {
         "name": "Label",
         "rawType": "object",
         "type": "string"
        },
        {
         "name": "Message",
         "rawType": "object",
         "type": "string"
        }
       ],
       "ref": "9c169f2d-f7a3-4c06-bc6e-2bfb2684859c",
       "rows": [
        [
         "0",
         "ham",
         "Subject: enron methanol ; meter # : 988291\nthis is a follow up to the note i gave you on monday , 4 / 3 / 00 { preliminary\nflow data provided by daren } .\nplease override pop ' s daily volume { presently zero } to reflect daily\nactivity you can obtain from gas control .\nthis change is needed asap for economics purposes ."
        ],
        [
         "1",
         "ham",
         "Subject: hpl nom for january 9 , 2001\n( see attached file : hplnol 09 . xls )\n- hplnol 09 . xls"
        ],
        [
         "2",
         "ham",
         "Subject: neon retreat\nho ho ho , we ' re around to that most wonderful time of the year - - - neon leaders retreat time !\ni know that this time of year is extremely hectic , and that it ' s tough to think about anything past the holidays , but life does go on past the week of december 25 through january 1 , and that ' s what i ' d like you to think about for a minute .\non the calender that i handed out at the beginning of the fall semester , the retreat was scheduled for the weekend of january 5 - 6 . but because of a youth ministers conference that brad and dustin are connected with that week , we ' re going to change the date to the following weekend , january 12 - 13 . now comes the part you need to think about .\ni think we all agree that it ' s important for us to get together and have some time to recharge our batteries before we get to far into the spring semester , but it can be a lot of trouble and difficult for us to get away without kids , etc . so , brad came up with a potential alternative for how we can get together on that weekend , and then you can let me know which you prefer .\nthe first option would be to have a retreat similar to what we ' ve done the past several years . this year we could go to the heartland country inn ( www . . com ) outside of brenham . it ' s a nice place , where we ' d have a 13 - bedroom and a 5 - bedroom house side by side . it ' s in the country , real relaxing , but also close to brenham and only about one hour and 15 minutes from here . we can golf , shop in the antique and craft stores in brenham , eat dinner together at the ranch , and spend time with each other . we ' d meet on saturday , and then return on sunday morning , just like what we ' ve done in the past .\nthe second option would be to stay here in houston , have dinner together at a nice restaurant , and then have dessert and a time for visiting and recharging at one of our homes on that saturday evening . this might be easier , but the trade off would be that we wouldn ' t have as much time together . i ' ll let you decide .\nemail me back with what would be your preference , and of course if you ' re available on that weekend . the democratic process will prevail - - majority vote will rule ! let me hear from you as soon as possible , preferably by the end of the weekend . and if the vote doesn ' t go your way , no complaining allowed ( like i tend to do ! )\nhave a great weekend , great golf , great fishing , great shopping , or whatever makes you happy !\nbobby"
        ],
        [
         "3",
         "spam",
         "Subject: photoshop , windows , office . cheap . main trending\nabasements darer prudently fortuitous undergone\nlighthearted charm orinoco taster\nrailroad affluent pornographic cuvier\nirvin parkhouse blameworthy chlorophyll\nrobed diagrammatic fogarty clears bayda\ninconveniencing managing represented smartness hashish\nacademies shareholders unload badness\ndanielson pure caffein\nspaniard chargeable levin\n"
        ],
        [
         "4",
         "ham",
         "Subject: re : indian springs\nthis deal is to book the teco pvr revenue . it is my understanding that teco\njust sends us a check , i haven ' t received an answer as to whether there is a\npredermined price associated with this deal or if teco just lets us know what\nwe are giving . i can continue to chase this deal down if you need ."
        ]
       ],
       "shape": {
        "columns": 2,
        "rows": 5
       }
      },
      "text/html": [
       "<div>\n",
       "<style scoped>\n",
       "    .dataframe tbody tr th:only-of-type {\n",
       "        vertical-align: middle;\n",
       "    }\n",
       "\n",
       "    .dataframe tbody tr th {\n",
       "        vertical-align: top;\n",
       "    }\n",
       "\n",
       "    .dataframe thead th {\n",
       "        text-align: right;\n",
       "    }\n",
       "</style>\n",
       "<table border=\"1\" class=\"dataframe\">\n",
       "  <thead>\n",
       "    <tr style=\"text-align: right;\">\n",
       "      <th></th>\n",
       "      <th>Label</th>\n",
       "      <th>Message</th>\n",
       "    </tr>\n",
       "  </thead>\n",
       "  <tbody>\n",
       "    <tr>\n",
       "      <th>0</th>\n",
       "      <td>ham</td>\n",
       "      <td>Subject: enron methanol ; meter # : 988291\\nth...</td>\n",
       "    </tr>\n",
       "    <tr>\n",
       "      <th>1</th>\n",
       "      <td>ham</td>\n",
       "      <td>Subject: hpl nom for january 9 , 2001\\n( see a...</td>\n",
       "    </tr>\n",
       "    <tr>\n",
       "      <th>2</th>\n",
       "      <td>ham</td>\n",
       "      <td>Subject: neon retreat\\nho ho ho , we ' re arou...</td>\n",
       "    </tr>\n",
       "    <tr>\n",
       "      <th>3</th>\n",
       "      <td>spam</td>\n",
       "      <td>Subject: photoshop , windows , office . cheap ...</td>\n",
       "    </tr>\n",
       "    <tr>\n",
       "      <th>4</th>\n",
       "      <td>ham</td>\n",
       "      <td>Subject: re : indian springs\\nthis deal is to ...</td>\n",
       "    </tr>\n",
       "  </tbody>\n",
       "</table>\n",
       "</div>"
      ],
      "text/plain": [
       "  Label                                            Message\n",
       "0   ham  Subject: enron methanol ; meter # : 988291\\nth...\n",
       "1   ham  Subject: hpl nom for january 9 , 2001\\n( see a...\n",
       "2   ham  Subject: neon retreat\\nho ho ho , we ' re arou...\n",
       "3  spam  Subject: photoshop , windows , office . cheap ...\n",
       "4   ham  Subject: re : indian springs\\nthis deal is to ..."
      ]
     },
     "execution_count": 23,
     "metadata": {},
     "output_type": "execute_result"
    }
   ],
   "source": [
    "data.head()\n"
   ]
  },
  {
   "cell_type": "code",
   "execution_count": 24,
   "metadata": {},
   "outputs": [
    {
     "data": {
      "application/vnd.microsoft.datawrangler.viewer.v0+json": {
       "columns": [
        {
         "name": "index",
         "rawType": "object",
         "type": "string"
        },
        {
         "name": "0",
         "rawType": "int64",
         "type": "integer"
        }
       ],
       "ref": "3fdb3385-1df7-4e37-8774-c8bceb80fdc5",
       "rows": [
        [
         "Label",
         "647"
        ],
        [
         "Message",
         "647"
        ]
       ],
       "shape": {
        "columns": 1,
        "rows": 2
       }
      },
      "text/plain": [
       "Label      647\n",
       "Message    647\n",
       "dtype: int64"
      ]
     },
     "execution_count": 24,
     "metadata": {},
     "output_type": "execute_result"
    }
   ],
   "source": [
    "data.isnull().sum()"
   ]
  },
  {
   "cell_type": "code",
   "execution_count": 25,
   "metadata": {},
   "outputs": [],
   "source": [
    "data = data.dropna(subset=[\"Label\"])"
   ]
  },
  {
   "cell_type": "code",
   "execution_count": 26,
   "metadata": {},
   "outputs": [],
   "source": [
    "data[\"Message\"] = data[\"Message\"].fillna(\"\")"
   ]
  },
  {
   "cell_type": "code",
   "execution_count": 27,
   "metadata": {
    "_cell_guid": "653bfeae-e298-44e3-b92c-78c0f747b8ef",
    "_uuid": "67b9147f254e720b0641d9a171333942ef529aba"
   },
   "outputs": [
    {
     "data": {
      "text/plain": [
       "(5171, 50140)"
      ]
     },
     "execution_count": 27,
     "metadata": {},
     "output_type": "execute_result"
    }
   ],
   "source": [
    "f = feature_extraction.text.CountVectorizer(stop_words = 'english')\n",
    "X = f.fit_transform(data[\"Message\"])\n",
    "np.shape(X)"
   ]
  },
  {
   "cell_type": "markdown",
   "metadata": {
    "_cell_guid": "205a78b4-b452-4a1a-8912-de897a798097",
    "_uuid": "35e5277996ce60e9e8725e20805b2a0d7d118764"
   },
   "source": [
    "We have created more than 63395 new features. The new feature $j$ in the row $i$ is equal to 1 if the word $w_{j}$ appears in the text example $i$. It is zero if not."
   ]
  },
  {
   "cell_type": "markdown",
   "metadata": {
    "_cell_guid": "448eda90-2493-46f0-a588-8e6e73b7e2d3",
    "_uuid": "1f0489faa50638217e4754ff0a8f26e5298752df"
   },
   "source": [
    "## Predictive Analysis"
   ]
  },
  {
   "cell_type": "markdown",
   "metadata": {
    "_cell_guid": "e19c8da3-73b0-4ed8-ac08-04e45a4309da",
    "_uuid": "da31f2e8dd19f4ff0a6c1f6dbf29b34a2c28391a"
   },
   "source": [
    "**My goal is to predict if a new sms is spam or non-spam. I assume that is much worse misclassify non-spam than misclassify an spam. (I don't want to have false positives)**\n",
    "<p>\n",
    "The reason is because I normally don't check the spam messages.<p> The two possible situations are:<p>\n",
    "1. New spam sms in my inbox. (False negative).<p>\n",
    "OUTCOME: I delete it.<p>\n",
    "2. New non-spam sms in my spam folder (False positive).<p>  OUTCOME: I probably don't read it. <p>\n",
    "I prefer the first option!!!"
   ]
  },
  {
   "cell_type": "markdown",
   "metadata": {
    "_cell_guid": "d1e8c9ef-588e-4708-8275-bfafe82c5cd8",
    "_uuid": "83edda58f114f466bf6cf6d1a278a1e5af08e651"
   },
   "source": [
    "First we transform the variable spam/non-spam into binary variable, then we split our data set in training set and test set. "
   ]
  },
  {
   "cell_type": "code",
   "execution_count": 29,
   "metadata": {},
   "outputs": [],
   "source": [
    "#let's map the values of target column ( class )\n",
    "data[\"Label\"]=data[\"Label\"].map({'spam':1,'ham':0})\n"
   ]
  },
  {
   "cell_type": "code",
   "execution_count": 31,
   "metadata": {
    "_cell_guid": "e5e2bee3-cdad-4ee6-9c59-f3a536195ed7",
    "_uuid": "ab65abc5fe63168bfea503db8e58e5ab03383a22"
   },
   "outputs": [
    {
     "name": "stdout",
     "output_type": "stream",
     "text": [
      "[(3464, 50140), (1707, 50140)]\n"
     ]
    }
   ],
   "source": [
    "X_train, X_test, y_train, y_test = model_selection.train_test_split(X, data['Label'], test_size=0.33, random_state=42)\n",
    "print([np.shape(X_train), np.shape(X_test)])"
   ]
  },
  {
   "cell_type": "markdown",
   "metadata": {
    "_cell_guid": "76cc3deb-7b7c-4511-ae4e-ef5cd2f7592b",
    "_uuid": "0463069f7287a20571ab90885b85dad8d9a64368"
   },
   "source": [
    "### Multinomial naive bayes classifier"
   ]
  },
  {
   "cell_type": "markdown",
   "metadata": {
    "_cell_guid": "691fa70e-6aa0-4743-b948-650e90f61e40",
    "_uuid": "7146dbec1c30fd6f2c39454834281e7b74648f39"
   },
   "source": [
    "We train different bayes models changing the regularization parameter $\\alpha$. <p>\n",
    "We evaluate the accuracy, recall and precision of the model with the test set."
   ]
  },
  {
   "cell_type": "code",
   "execution_count": 32,
   "metadata": {
    "_cell_guid": "e7b5bbc6-23cb-49f8-8ea3-83f71c9f6d97",
    "_uuid": "4bf729b41f966730729d72d6b61e287ab426bd39",
    "tags": []
   },
   "outputs": [],
   "source": [
    "list_alpha = np.arange(1/100000, 20, 0.11)\n",
    "score_train = np.zeros(len(list_alpha))\n",
    "score_test = np.zeros(len(list_alpha))\n",
    "recall_test = np.zeros(len(list_alpha))\n",
    "precision_test= np.zeros(len(list_alpha))\n",
    "count = 0\n",
    "for alpha in list_alpha:\n",
    "    bayes = naive_bayes.MultinomialNB(alpha=alpha)\n",
    "    bayes.fit(X_train, y_train)\n",
    "    score_train[count] = bayes.score(X_train, y_train)\n",
    "    score_test[count]= bayes.score(X_test, y_test)\n",
    "    recall_test[count] = metrics.recall_score(y_test, bayes.predict(X_test))\n",
    "    precision_test[count] = metrics.precision_score(y_test, bayes.predict(X_test))\n",
    "    count = count + 1 "
   ]
  },
  {
   "cell_type": "markdown",
   "metadata": {
    "_cell_guid": "4390a64a-41a8-46a6-b6bb-a204e769a617",
    "_uuid": "2c9003728118d2729d284b1712b85f0d2a4df3d5"
   },
   "source": [
    "Let's see the first 10 learning models and their metrics!"
   ]
  },
  {
   "cell_type": "code",
   "execution_count": 33,
   "metadata": {
    "_cell_guid": "9bb5c44b-9d9b-4f79-8462-324eb3addcad",
    "_uuid": "b38a2e021e3b5898e0883ee95165457af85f954b"
   },
   "outputs": [
    {
     "data": {
      "application/vnd.microsoft.datawrangler.viewer.v0+json": {
       "columns": [
        {
         "name": "index",
         "rawType": "int64",
         "type": "integer"
        },
        {
         "name": "alpha",
         "rawType": "float64",
         "type": "float"
        },
        {
         "name": "Train Accuracy",
         "rawType": "float64",
         "type": "float"
        },
        {
         "name": "Test Accuracy",
         "rawType": "float64",
         "type": "float"
        },
        {
         "name": "Test Recall",
         "rawType": "float64",
         "type": "float"
        },
        {
         "name": "Test Precision",
         "rawType": "float64",
         "type": "float"
        }
       ],
       "ref": "67bd0064-4958-4281-8921-4d4f8f3dc253",
       "rows": [
        [
         "0",
         "1e-05",
         "0.9927829099307159",
         "0.9806678383128296",
         "0.9739696312364425",
         "0.9553191489361702"
        ],
        [
         "1",
         "0.11001",
         "0.9910508083140878",
         "0.9765670767428236",
         "0.9718004338394793",
         "0.9431578947368421"
        ],
        [
         "2",
         "0.22001",
         "0.9910508083140878",
         "0.9771528998242531",
         "0.9718004338394793",
         "0.9451476793248945"
        ],
        [
         "3",
         "0.33001",
         "0.9901847575057737",
         "0.9765670767428236",
         "0.9696312364425163",
         "0.945031712473573"
        ],
        [
         "4",
         "0.44001",
         "0.9893187066974596",
         "0.9753954305799648",
         "0.9674620390455532",
         "0.9429175475687104"
        ],
        [
         "5",
         "0.55001",
         "0.9890300230946882",
         "0.9759812536613942",
         "0.9674620390455532",
         "0.9449152542372882"
        ],
        [
         "6",
         "0.66001",
         "0.9884526558891455",
         "0.9765670767428236",
         "0.9674620390455532",
         "0.9469214437367304"
        ],
        [
         "7",
         "0.77001",
         "0.9881639722863741",
         "0.9771528998242531",
         "0.9674620390455532",
         "0.948936170212766"
        ],
        [
         "8",
         "0.88001",
         "0.9875866050808314",
         "0.9771528998242531",
         "0.9674620390455532",
         "0.948936170212766"
        ],
        [
         "9",
         "0.99001",
         "0.9870092378752887",
         "0.9765670767428236",
         "0.96529284164859",
         "0.9488272921108742"
        ]
       ],
       "shape": {
        "columns": 5,
        "rows": 10
       }
      },
      "text/html": [
       "<div>\n",
       "<style scoped>\n",
       "    .dataframe tbody tr th:only-of-type {\n",
       "        vertical-align: middle;\n",
       "    }\n",
       "\n",
       "    .dataframe tbody tr th {\n",
       "        vertical-align: top;\n",
       "    }\n",
       "\n",
       "    .dataframe thead th {\n",
       "        text-align: right;\n",
       "    }\n",
       "</style>\n",
       "<table border=\"1\" class=\"dataframe\">\n",
       "  <thead>\n",
       "    <tr style=\"text-align: right;\">\n",
       "      <th></th>\n",
       "      <th>alpha</th>\n",
       "      <th>Train Accuracy</th>\n",
       "      <th>Test Accuracy</th>\n",
       "      <th>Test Recall</th>\n",
       "      <th>Test Precision</th>\n",
       "    </tr>\n",
       "  </thead>\n",
       "  <tbody>\n",
       "    <tr>\n",
       "      <th>0</th>\n",
       "      <td>0.00001</td>\n",
       "      <td>0.992783</td>\n",
       "      <td>0.980668</td>\n",
       "      <td>0.973970</td>\n",
       "      <td>0.955319</td>\n",
       "    </tr>\n",
       "    <tr>\n",
       "      <th>1</th>\n",
       "      <td>0.11001</td>\n",
       "      <td>0.991051</td>\n",
       "      <td>0.976567</td>\n",
       "      <td>0.971800</td>\n",
       "      <td>0.943158</td>\n",
       "    </tr>\n",
       "    <tr>\n",
       "      <th>2</th>\n",
       "      <td>0.22001</td>\n",
       "      <td>0.991051</td>\n",
       "      <td>0.977153</td>\n",
       "      <td>0.971800</td>\n",
       "      <td>0.945148</td>\n",
       "    </tr>\n",
       "    <tr>\n",
       "      <th>3</th>\n",
       "      <td>0.33001</td>\n",
       "      <td>0.990185</td>\n",
       "      <td>0.976567</td>\n",
       "      <td>0.969631</td>\n",
       "      <td>0.945032</td>\n",
       "    </tr>\n",
       "    <tr>\n",
       "      <th>4</th>\n",
       "      <td>0.44001</td>\n",
       "      <td>0.989319</td>\n",
       "      <td>0.975395</td>\n",
       "      <td>0.967462</td>\n",
       "      <td>0.942918</td>\n",
       "    </tr>\n",
       "    <tr>\n",
       "      <th>5</th>\n",
       "      <td>0.55001</td>\n",
       "      <td>0.989030</td>\n",
       "      <td>0.975981</td>\n",
       "      <td>0.967462</td>\n",
       "      <td>0.944915</td>\n",
       "    </tr>\n",
       "    <tr>\n",
       "      <th>6</th>\n",
       "      <td>0.66001</td>\n",
       "      <td>0.988453</td>\n",
       "      <td>0.976567</td>\n",
       "      <td>0.967462</td>\n",
       "      <td>0.946921</td>\n",
       "    </tr>\n",
       "    <tr>\n",
       "      <th>7</th>\n",
       "      <td>0.77001</td>\n",
       "      <td>0.988164</td>\n",
       "      <td>0.977153</td>\n",
       "      <td>0.967462</td>\n",
       "      <td>0.948936</td>\n",
       "    </tr>\n",
       "    <tr>\n",
       "      <th>8</th>\n",
       "      <td>0.88001</td>\n",
       "      <td>0.987587</td>\n",
       "      <td>0.977153</td>\n",
       "      <td>0.967462</td>\n",
       "      <td>0.948936</td>\n",
       "    </tr>\n",
       "    <tr>\n",
       "      <th>9</th>\n",
       "      <td>0.99001</td>\n",
       "      <td>0.987009</td>\n",
       "      <td>0.976567</td>\n",
       "      <td>0.965293</td>\n",
       "      <td>0.948827</td>\n",
       "    </tr>\n",
       "  </tbody>\n",
       "</table>\n",
       "</div>"
      ],
      "text/plain": [
       "     alpha  Train Accuracy  Test Accuracy  Test Recall  Test Precision\n",
       "0  0.00001        0.992783       0.980668     0.973970        0.955319\n",
       "1  0.11001        0.991051       0.976567     0.971800        0.943158\n",
       "2  0.22001        0.991051       0.977153     0.971800        0.945148\n",
       "3  0.33001        0.990185       0.976567     0.969631        0.945032\n",
       "4  0.44001        0.989319       0.975395     0.967462        0.942918\n",
       "5  0.55001        0.989030       0.975981     0.967462        0.944915\n",
       "6  0.66001        0.988453       0.976567     0.967462        0.946921\n",
       "7  0.77001        0.988164       0.977153     0.967462        0.948936\n",
       "8  0.88001        0.987587       0.977153     0.967462        0.948936\n",
       "9  0.99001        0.987009       0.976567     0.965293        0.948827"
      ]
     },
     "execution_count": 33,
     "metadata": {},
     "output_type": "execute_result"
    }
   ],
   "source": [
    "matrix = np.matrix(np.c_[list_alpha, score_train, score_test, recall_test, precision_test])\n",
    "models = pd.DataFrame(data = matrix, columns = \n",
    "             ['alpha', 'Train Accuracy', 'Test Accuracy', 'Test Recall', 'Test Precision'])\n",
    "models.head(n=10)"
   ]
  },
  {
   "cell_type": "markdown",
   "metadata": {
    "_cell_guid": "072aeed4-d578-4917-b32e-ca54380dd5e2",
    "_uuid": "7a3bfc6ad5f9e5d05187c61074b1b47b50516772"
   },
   "source": [
    "let's select the model with the most test precision"
   ]
  },
  {
   "cell_type": "code",
   "execution_count": 34,
   "metadata": {
    "_cell_guid": "6f285b74-00bc-45cd-af8c-ac3c846b92e7",
    "_uuid": "4d87a52c2e11585c970314171d943bcb45f596c8"
   },
   "outputs": [
    {
     "data": {
      "application/vnd.microsoft.datawrangler.viewer.v0+json": {
       "columns": [
        {
         "name": "index",
         "rawType": "object",
         "type": "string"
        },
        {
         "name": "122",
         "rawType": "float64",
         "type": "float"
        }
       ],
       "ref": "87d0dd87-50c9-44cf-874f-4584b26d7ea5",
       "rows": [
        [
         "alpha",
         "13.42001"
        ],
        [
         "Train Accuracy",
         "0.9509237875288684"
        ],
        [
         "Test Accuracy",
         "0.9420035149384886"
        ],
        [
         "Test Recall",
         "0.7917570498915402"
        ],
        [
         "Test Precision",
         "0.9918478260869565"
        ]
       ],
       "shape": {
        "columns": 1,
        "rows": 5
       }
      },
      "text/plain": [
       "alpha             13.420010\n",
       "Train Accuracy     0.950924\n",
       "Test Accuracy      0.942004\n",
       "Test Recall        0.791757\n",
       "Test Precision     0.991848\n",
       "Name: 122, dtype: float64"
      ]
     },
     "execution_count": 34,
     "metadata": {},
     "output_type": "execute_result"
    }
   ],
   "source": [
    "best_index = models['Test Precision'].idxmax()\n",
    "models.iloc[best_index, :]"
   ]
  },
  {
   "cell_type": "markdown",
   "metadata": {
    "_cell_guid": "060f159b-e0d9-4d49-8d1b-108db0683551",
    "_uuid": "da73a1525d323708933ea89fbe4e77027c0a50db"
   },
   "source": [
    "**The best model does not produce any false positive, which is our goal.** <p>\n",
    "Let's see if there is more than one model with 100% precision !"
   ]
  },
  {
   "cell_type": "code",
   "execution_count": 35,
   "metadata": {},
   "outputs": [
    {
     "data": {
      "text/plain": [
       "0.9918478260869565"
      ]
     },
     "execution_count": 35,
     "metadata": {},
     "output_type": "execute_result"
    }
   ],
   "source": [
    "models['Test Precision'].max()"
   ]
  },
  {
   "cell_type": "code",
   "execution_count": 36,
   "metadata": {
    "_cell_guid": "258125aa-b60f-448a-ab78-e6bb54871837",
    "_uuid": "a493d149424ca65839847ff534cbd7630011bf09"
   },
   "outputs": [
    {
     "data": {
      "application/vnd.microsoft.datawrangler.viewer.v0+json": {
       "columns": [
        {
         "name": "index",
         "rawType": "int64",
         "type": "integer"
        },
        {
         "name": "alpha",
         "rawType": "float64",
         "type": "float"
        },
        {
         "name": "Train Accuracy",
         "rawType": "float64",
         "type": "float"
        },
        {
         "name": "Test Accuracy",
         "rawType": "float64",
         "type": "float"
        },
        {
         "name": "Test Recall",
         "rawType": "float64",
         "type": "float"
        },
        {
         "name": "Test Precision",
         "rawType": "float64",
         "type": "float"
        }
       ],
       "ref": "07d13d68-2325-4ba2-a31f-4f8a01b3451d",
       "rows": [
        [
         "122",
         "13.42001",
         "0.9509237875288684",
         "0.9420035149384886",
         "0.7917570498915402",
         "0.9918478260869565"
        ]
       ],
       "shape": {
        "columns": 5,
        "rows": 1
       }
      },
      "text/html": [
       "<div>\n",
       "<style scoped>\n",
       "    .dataframe tbody tr th:only-of-type {\n",
       "        vertical-align: middle;\n",
       "    }\n",
       "\n",
       "    .dataframe tbody tr th {\n",
       "        vertical-align: top;\n",
       "    }\n",
       "\n",
       "    .dataframe thead th {\n",
       "        text-align: right;\n",
       "    }\n",
       "</style>\n",
       "<table border=\"1\" class=\"dataframe\">\n",
       "  <thead>\n",
       "    <tr style=\"text-align: right;\">\n",
       "      <th></th>\n",
       "      <th>alpha</th>\n",
       "      <th>Train Accuracy</th>\n",
       "      <th>Test Accuracy</th>\n",
       "      <th>Test Recall</th>\n",
       "      <th>Test Precision</th>\n",
       "    </tr>\n",
       "  </thead>\n",
       "  <tbody>\n",
       "    <tr>\n",
       "      <th>122</th>\n",
       "      <td>13.42001</td>\n",
       "      <td>0.950924</td>\n",
       "      <td>0.942004</td>\n",
       "      <td>0.791757</td>\n",
       "      <td>0.991848</td>\n",
       "    </tr>\n",
       "  </tbody>\n",
       "</table>\n",
       "</div>"
      ],
      "text/plain": [
       "        alpha  Train Accuracy  Test Accuracy  Test Recall  Test Precision\n",
       "122  13.42001        0.950924       0.942004     0.791757        0.991848"
      ]
     },
     "execution_count": 36,
     "metadata": {},
     "output_type": "execute_result"
    }
   ],
   "source": [
    "models[models['Test Precision'] == models['Test Precision'].max()].head(n=5)"
   ]
  },
  {
   "cell_type": "markdown",
   "metadata": {
    "_cell_guid": "8c77ed68-bd03-41cd-9293-f8c7777df06d",
    "_uuid": "8d9107309dfcd3c0b77bb9be6f09ac07d0d860f4"
   },
   "source": [
    "Between these models with the highest possible precision, we are going to select which has more test accuracy."
   ]
  },
  {
   "cell_type": "code",
   "execution_count": 37,
   "metadata": {
    "_cell_guid": "1dd94a26-7252-4fcd-ad18-7d755ab20ab7",
    "_uuid": "d74e1e4cebee52716b5bf9e9aa72efa147f43f93"
   },
   "outputs": [
    {
     "data": {
      "application/vnd.microsoft.datawrangler.viewer.v0+json": {
       "columns": [
        {
         "name": "index",
         "rawType": "object",
         "type": "string"
        },
        {
         "name": "122",
         "rawType": "float64",
         "type": "float"
        }
       ],
       "ref": "04142017-7cfe-4b47-bc06-ca9441d46798",
       "rows": [
        [
         "alpha",
         "13.42001"
        ],
        [
         "Train Accuracy",
         "0.9509237875288684"
        ],
        [
         "Test Accuracy",
         "0.9420035149384886"
        ],
        [
         "Test Recall",
         "0.7917570498915402"
        ],
        [
         "Test Precision",
         "0.9918478260869565"
        ]
       ],
       "shape": {
        "columns": 1,
        "rows": 5
       }
      },
      "text/plain": [
       "alpha             13.420010\n",
       "Train Accuracy     0.950924\n",
       "Test Accuracy      0.942004\n",
       "Test Recall        0.791757\n",
       "Test Precision     0.991848\n",
       "Name: 122, dtype: float64"
      ]
     },
     "execution_count": 37,
     "metadata": {},
     "output_type": "execute_result"
    }
   ],
   "source": [
    "best_index = models[models['Test Precision']==models['Test Precision'].max()]['Test Accuracy'].idxmax()\n",
    "bayes = naive_bayes.MultinomialNB(alpha=list_alpha[best_index])\n",
    "bayes.fit(X_train, y_train)\n",
    "models.iloc[best_index, :]"
   ]
  },
  {
   "cell_type": "markdown",
   "metadata": {
    "_cell_guid": "67ca2aef-56b9-4701-9590-387eb64c13a8",
    "_uuid": "606304507b731dd866ad9b97daa654a0c32a544a"
   },
   "source": [
    "#### Confusion matrix with naive bayes classifier"
   ]
  },
  {
   "cell_type": "code",
   "execution_count": 38,
   "metadata": {
    "_cell_guid": "076b7447-5c33-4671-8b25-7000e0c3a28f",
    "_uuid": "a700b298131b18e8ec21a67959df4a71c1177a54"
   },
   "outputs": [
    {
     "data": {
      "application/vnd.microsoft.datawrangler.viewer.v0+json": {
       "columns": [
        {
         "name": "index",
         "rawType": "object",
         "type": "string"
        },
        {
         "name": "Predicted 0",
         "rawType": "int64",
         "type": "integer"
        },
        {
         "name": "Predicted 1",
         "rawType": "int64",
         "type": "integer"
        }
       ],
       "ref": "04700efa-861f-4efb-a796-3dba20d80580",
       "rows": [
        [
         "Actual 0",
         "1243",
         "3"
        ],
        [
         "Actual 1",
         "96",
         "365"
        ]
       ],
       "shape": {
        "columns": 2,
        "rows": 2
       }
      },
      "text/html": [
       "<div>\n",
       "<style scoped>\n",
       "    .dataframe tbody tr th:only-of-type {\n",
       "        vertical-align: middle;\n",
       "    }\n",
       "\n",
       "    .dataframe tbody tr th {\n",
       "        vertical-align: top;\n",
       "    }\n",
       "\n",
       "    .dataframe thead th {\n",
       "        text-align: right;\n",
       "    }\n",
       "</style>\n",
       "<table border=\"1\" class=\"dataframe\">\n",
       "  <thead>\n",
       "    <tr style=\"text-align: right;\">\n",
       "      <th></th>\n",
       "      <th>Predicted 0</th>\n",
       "      <th>Predicted 1</th>\n",
       "    </tr>\n",
       "  </thead>\n",
       "  <tbody>\n",
       "    <tr>\n",
       "      <th>Actual 0</th>\n",
       "      <td>1243</td>\n",
       "      <td>3</td>\n",
       "    </tr>\n",
       "    <tr>\n",
       "      <th>Actual 1</th>\n",
       "      <td>96</td>\n",
       "      <td>365</td>\n",
       "    </tr>\n",
       "  </tbody>\n",
       "</table>\n",
       "</div>"
      ],
      "text/plain": [
       "          Predicted 0  Predicted 1\n",
       "Actual 0         1243            3\n",
       "Actual 1           96          365"
      ]
     },
     "execution_count": 38,
     "metadata": {},
     "output_type": "execute_result"
    }
   ],
   "source": [
    "m_confusion_test = metrics.confusion_matrix(y_test, bayes.predict(X_test))\n",
    "pd.DataFrame(data = m_confusion_test, columns = ['Predicted 0', 'Predicted 1'],\n",
    "            index = ['Actual 0', 'Actual 1'])"
   ]
  },
  {
   "cell_type": "markdown",
   "metadata": {
    "_cell_guid": "f941e85f-382a-4da1-86a7-6f7da14f70c0",
    "_uuid": "a3bedbcaf45f81634407cbce15bcf8c701a4bbdb"
   },
   "source": [
    "* #### We misclassify 57 spam messages as non-spam emails whereas we don't misclassify any non-spam message."
   ]
  }
 ],
 "metadata": {
  "anaconda-cloud": {},
  "kernelspec": {
   "display_name": "Python 3",
   "language": "python",
   "name": "python3"
  },
  "language_info": {
   "codemirror_mode": {
    "name": "ipython",
    "version": 3
   },
   "file_extension": ".py",
   "mimetype": "text/x-python",
   "name": "python",
   "nbconvert_exporter": "python",
   "pygments_lexer": "ipython3",
   "version": "3.7.16"
  }
 },
 "nbformat": 4,
 "nbformat_minor": 4
}
